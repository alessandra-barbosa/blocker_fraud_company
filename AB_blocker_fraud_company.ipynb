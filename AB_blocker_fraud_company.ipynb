{
  "cells": [
    {
      "cell_type": "markdown",
      "metadata": {
        "id": "view-in-github",
        "colab_type": "text"
      },
      "source": [
        "<a href=\"https://colab.research.google.com/github/alessandra-barbosa/blocker_fraud_company/blob/main/AB_blocker_fraud_company.ipynb\" target=\"_parent\"><img src=\"https://colab.research.google.com/assets/colab-badge.svg\" alt=\"Open In Colab\"/></a>"
      ]
    },
    {
      "cell_type": "markdown",
      "metadata": {
        "id": "QP0xYztXliol"
      },
      "source": [
        "![Cardio Image](https://plus.unsplash.com/premium_photo-1663127034054-4d4e1d8712e2?ixlib=rb-4.0.3&ixid=MnwxMjA3fDB8MHxzZWFyY2h8N3x8ZnJhdWR8ZW58MHx8MHx8&auto=format&fit=crop&w=500&q=60)\n",
        "<h1>Blocker fraud company </h1>"
      ]
    },
    {
      "cell_type": "markdown",
      "metadata": {
        "id": "8wS7sSsIliom"
      },
      "source": [
        "## 0.0 - Business undertanding"
      ]
    },
    {
      "cell_type": "markdown",
      "metadata": {
        "id": "IqjC1Jq4liom"
      },
      "source": [
        "**The Blocker Fraud Company**\n",
        "\n",
        "- Financial transactions' fraud detection specialized company.\n",
        "- The Blocker Fraud service ensures fraudulent transactions block.\n",
        "- Business Model: service's performance monetization.\n",
        "\n",
        "**Expansion Strategy in Brazil**\n",
        "\n",
        "1. The company receives 25% of each transaction value truly detected as fraud.\n",
        "2. The company receives 5% of each transaction value detected as fraud, however the transaction is legitimate.\n",
        "3. The company gives back 100% of the value for the customer in each transaction detected as legitimate, however the transaction is actually a fraud.\n",
        "\n",
        "**Goal**\n",
        "\n",
        "- Create a model with high accuracy and precision with respect to transactions' fraud detection.\n",
        "\n",
        "**Deliverables**\n",
        "\n",
        "- Deployed model with API access. The API must inform \"Fraud\" or \"Legitimate\" when the transaction is inputed.\n",
        "- A Readme about how to use the tool.\n",
        "- Model performance and results report with respect to profit and loss. The following questions must be answered:\n",
        "\n",
        "    - What is the model's precision and accuracy?\n",
        "    - What is the model's reliability with respect to transactions' classification as legitimate or fraudulent?\n",
        "    - What is the company's forecasted revenue if the model classifies 100% of the transactions?\n",
        "    - What is the company's forecasted loss in case of model's failure?\n",
        "    - What is the Blocker Fraud Company forecasted profit using the model?"
      ]
    },
    {
      "cell_type": "markdown",
      "metadata": {
        "id": "KZGqnGm4lion"
      },
      "source": [
        "## 1.0 - Imports"
      ]
    },
    {
      "cell_type": "code",
      "source": [
        "#!pip install inflection"
      ],
      "metadata": {
        "id": "CE1vV7OCwf1w"
      },
      "execution_count": 21,
      "outputs": []
    },
    {
      "cell_type": "markdown",
      "metadata": {
        "id": "IsAPM2iTlion"
      },
      "source": [
        "### 1.1 - Libraries"
      ]
    },
    {
      "cell_type": "code",
      "execution_count": 3,
      "metadata": {
        "id": "ZtocpK8flion",
        "colab": {
          "base_uri": "https://localhost:8080/"
        },
        "outputId": "6e8d3ab4-2da9-423e-d1b3-98673e022f53"
      },
      "outputs": [
        {
          "output_type": "stream",
          "name": "stderr",
          "text": [
            "<ipython-input-3-e58f32863bd9>:6: DeprecationWarning: `import pandas_profiling` is going to be deprecated by April 1st. Please use `import ydata_profiling` instead.\n",
            "  from pandas_profiling      import ProfileReport #conda install -c conda-forge ydata-profiling\n"
          ]
        }
      ],
      "source": [
        "import pandas as pd\n",
        "import numpy as np\n",
        "import inflection\n",
        "from scipy.stats import kurtosis, skew\n",
        "from random import sample as sp\n",
        "from pandas_profiling      import ProfileReport #conda install -c conda-forge ydata-profiling\n",
        "\n",
        "# ## Database \n",
        "from sqlalchemy import create_engine\n",
        "import sqlite3\n",
        "\n",
        "# ## Data Transformation\n",
        "# from sklearn.preprocessing import StandardScaler, MinMaxScaler, RobustScaler, OrdinalEncoder,OneHotEncoder\n",
        "\n",
        "# ## Visualization\n",
        "# import seaborn as sns\n",
        "# from seaborn import pairplot\n",
        "# import matplotlib.pyplot as plt\n",
        "# from sklearn.metrics import confusion_matrix,ConfusionMatrixDisplay\n",
        "# from scipy.stats import pointbiserialr\n",
        "\n",
        "# ## Machine Learning, selection and split\n",
        "from sklearn.model_selection import StratifiedShuffleSplit\n",
        "# from sklearn.model_selection import train_test_split\n",
        "# from sklearn.ensemble import RandomForestClassifier, GradientBoostingClassifier,ExtraTreesClassifier\n",
        "# from sklearn.feature_selection import RFE\n",
        "# from sklearn.decomposition          import PCA\n",
        "# from sklearn.metrics import accuracy_score, recall_score, precision_score,f1_score\n",
        "# from sklearn.linear_model import LogisticRegression \n",
        "# from xgboost import XGBClassifier\n",
        "# from sklearn.neighbors import KNeighborsClassifier\n",
        "# from lightgbm import LGBMClassifier\n",
        "# from sklearn.model_selection import RepeatedStratifiedKFold, cross_val_score,RandomizedSearchCV,GridSearchCV\n",
        "# import pickle\n",
        "\n",
        "# ## Configurations\n",
        "# from IPython.display import Image\n",
        "# from IPython.display import HTML\n",
        "# import warnings\n",
        "\n"
      ]
    },
    {
      "cell_type": "markdown",
      "metadata": {
        "id": "ni-RHnuzlioo"
      },
      "source": [
        "### 1.2 - Funcions"
      ]
    },
    {
      "cell_type": "code",
      "execution_count": 23,
      "metadata": {
        "id": "t39wFeg-lioo"
      },
      "outputs": [],
      "source": [
        "# # Calculating Scores to classification \n",
        "# def metrics_score(y_valid, y_hat, mdl_name):\n",
        "#     '''\n",
        "#         y_hat:    is the prediction array\n",
        "#         y_valid:  is the true targe array or series\n",
        "#         mdl_name: is the name of machine learning model\n",
        "        \n",
        "#         Accuracy formula  -->   accuracy   = np.mean(y_hat == y_valid)\n",
        "#         Precision formula -->   precision  = positive_true/(positive_true+positive_false)      \n",
        "#         Recall formula    -->   recall     = positive_true/(positive_true+negative_false)\n",
        "        \n",
        "#         Return -->> mdl_name, accuracy, precision, recall\n",
        "        \n",
        "#     '''\n",
        "#     accuracy = accuracy_score(y_valid, y_hat)\n",
        "#     precision = precision_score(y_valid, y_hat)\n",
        "#     recall = recall_score(y_valid, y_hat)\n",
        "#     F1_score = f1_score(y_valid, y_hat)\n",
        "\n",
        "    \n",
        "#     return pd.DataFrame([[mdl_name, accuracy, precision, recall,F1_score]], \n",
        "#                         columns=['mdl_name', 'accuracy', 'precision', 'recall', 'F1_score'\n",
        "#                                  ])\n",
        "    \n",
        "\n",
        "\n",
        "# # Jupyter configuring to better experience\n",
        "# def jupyter_settings():\n",
        "#     %matplotlib inline\n",
        "#     %pylab inline\n",
        "        \n",
        "#     plt.style.use('bmh')\n",
        "#     plt.rcParams['figure.figsize'] = [25,9]\n",
        "#     plt.rcParams['font.size'] = 24\n",
        "    \n",
        "#     display(HTML('<style>.container{width:100% !important; }</style>'))\n",
        "#     pd.options.display.max_columns = None\n",
        "#     pd.options.display.max_rows = None\n",
        "#     pd.set_option('display.expand_frame_repr', False)\n",
        "    \n",
        "#     sns.set()\n",
        "# jupyter_settings()  \n",
        "\n",
        "\n",
        "# def highlight_max(s):\n",
        "#     '''\n",
        "#     highlight the maximum in a Series yellow.\n",
        "#     '''\n",
        "#     is_max = s == s.max()\n",
        "#     return ['background-color: yellow' if v else '' for v in is_max]\n",
        "\n",
        "# # To hide warning messages\n",
        "# warnings.filterwarnings('ignore')\n"
      ]
    },
    {
      "cell_type": "markdown",
      "metadata": {
        "id": "vt0dWy1Lliop"
      },
      "source": [
        "### 1.3 - Data Collect - CSV"
      ]
    },
    {
      "cell_type": "code",
      "execution_count": 4,
      "metadata": {
        "id": "Y0seyO50liop"
      },
      "outputs": [],
      "source": [
        "## Loading dataset\n",
        "# from google import colab as cl\n",
        "# file_upload=cl.files.upload()\n",
        "df_raw = pd.read_csv('/content/PS_20174392719_1491204439457_log.csv', sep=',')\n",
        "#df_raw = pd.read_csv(r'C:\\Users\\Utente77\\repos\\blocker_fraud_company_PA002\\datasets\\PS_20174392719_1491204439457_log.csv', sep=',')"
      ]
    },
    {
      "cell_type": "code",
      "execution_count": 5,
      "metadata": {
        "colab": {
          "base_uri": "https://localhost:8080/",
          "height": 206
        },
        "id": "Hl7nThbUKicF",
        "outputId": "44be7ba8-4a1e-4e11-ebfe-292c657745fc"
      },
      "outputs": [
        {
          "output_type": "execute_result",
          "data": {
            "text/plain": [
              "   step      type    amount     nameOrig  oldbalanceOrg  newbalanceOrig  \\\n",
              "0     1   PAYMENT   9839.64  C1231006815       170136.0       160296.36   \n",
              "1     1   PAYMENT   1864.28  C1666544295        21249.0        19384.72   \n",
              "2     1  TRANSFER    181.00  C1305486145          181.0            0.00   \n",
              "3     1  CASH_OUT    181.00   C840083671          181.0            0.00   \n",
              "4     1   PAYMENT  11668.14  C2048537720        41554.0        29885.86   \n",
              "\n",
              "      nameDest  oldbalanceDest  newbalanceDest  isFraud  isFlaggedFraud  \n",
              "0  M1979787155             0.0             0.0        0               0  \n",
              "1  M2044282225             0.0             0.0        0               0  \n",
              "2   C553264065             0.0             0.0        1               0  \n",
              "3    C38997010         21182.0             0.0        1               0  \n",
              "4  M1230701703             0.0             0.0        0               0  "
            ],
            "text/html": [
              "\n",
              "  <div id=\"df-a71de2ba-b588-430f-9b65-998013a3c2b3\">\n",
              "    <div class=\"colab-df-container\">\n",
              "      <div>\n",
              "<style scoped>\n",
              "    .dataframe tbody tr th:only-of-type {\n",
              "        vertical-align: middle;\n",
              "    }\n",
              "\n",
              "    .dataframe tbody tr th {\n",
              "        vertical-align: top;\n",
              "    }\n",
              "\n",
              "    .dataframe thead th {\n",
              "        text-align: right;\n",
              "    }\n",
              "</style>\n",
              "<table border=\"1\" class=\"dataframe\">\n",
              "  <thead>\n",
              "    <tr style=\"text-align: right;\">\n",
              "      <th></th>\n",
              "      <th>step</th>\n",
              "      <th>type</th>\n",
              "      <th>amount</th>\n",
              "      <th>nameOrig</th>\n",
              "      <th>oldbalanceOrg</th>\n",
              "      <th>newbalanceOrig</th>\n",
              "      <th>nameDest</th>\n",
              "      <th>oldbalanceDest</th>\n",
              "      <th>newbalanceDest</th>\n",
              "      <th>isFraud</th>\n",
              "      <th>isFlaggedFraud</th>\n",
              "    </tr>\n",
              "  </thead>\n",
              "  <tbody>\n",
              "    <tr>\n",
              "      <th>0</th>\n",
              "      <td>1</td>\n",
              "      <td>PAYMENT</td>\n",
              "      <td>9839.64</td>\n",
              "      <td>C1231006815</td>\n",
              "      <td>170136.0</td>\n",
              "      <td>160296.36</td>\n",
              "      <td>M1979787155</td>\n",
              "      <td>0.0</td>\n",
              "      <td>0.0</td>\n",
              "      <td>0</td>\n",
              "      <td>0</td>\n",
              "    </tr>\n",
              "    <tr>\n",
              "      <th>1</th>\n",
              "      <td>1</td>\n",
              "      <td>PAYMENT</td>\n",
              "      <td>1864.28</td>\n",
              "      <td>C1666544295</td>\n",
              "      <td>21249.0</td>\n",
              "      <td>19384.72</td>\n",
              "      <td>M2044282225</td>\n",
              "      <td>0.0</td>\n",
              "      <td>0.0</td>\n",
              "      <td>0</td>\n",
              "      <td>0</td>\n",
              "    </tr>\n",
              "    <tr>\n",
              "      <th>2</th>\n",
              "      <td>1</td>\n",
              "      <td>TRANSFER</td>\n",
              "      <td>181.00</td>\n",
              "      <td>C1305486145</td>\n",
              "      <td>181.0</td>\n",
              "      <td>0.00</td>\n",
              "      <td>C553264065</td>\n",
              "      <td>0.0</td>\n",
              "      <td>0.0</td>\n",
              "      <td>1</td>\n",
              "      <td>0</td>\n",
              "    </tr>\n",
              "    <tr>\n",
              "      <th>3</th>\n",
              "      <td>1</td>\n",
              "      <td>CASH_OUT</td>\n",
              "      <td>181.00</td>\n",
              "      <td>C840083671</td>\n",
              "      <td>181.0</td>\n",
              "      <td>0.00</td>\n",
              "      <td>C38997010</td>\n",
              "      <td>21182.0</td>\n",
              "      <td>0.0</td>\n",
              "      <td>1</td>\n",
              "      <td>0</td>\n",
              "    </tr>\n",
              "    <tr>\n",
              "      <th>4</th>\n",
              "      <td>1</td>\n",
              "      <td>PAYMENT</td>\n",
              "      <td>11668.14</td>\n",
              "      <td>C2048537720</td>\n",
              "      <td>41554.0</td>\n",
              "      <td>29885.86</td>\n",
              "      <td>M1230701703</td>\n",
              "      <td>0.0</td>\n",
              "      <td>0.0</td>\n",
              "      <td>0</td>\n",
              "      <td>0</td>\n",
              "    </tr>\n",
              "  </tbody>\n",
              "</table>\n",
              "</div>\n",
              "      <button class=\"colab-df-convert\" onclick=\"convertToInteractive('df-a71de2ba-b588-430f-9b65-998013a3c2b3')\"\n",
              "              title=\"Convert this dataframe to an interactive table.\"\n",
              "              style=\"display:none;\">\n",
              "        \n",
              "  <svg xmlns=\"http://www.w3.org/2000/svg\" height=\"24px\"viewBox=\"0 0 24 24\"\n",
              "       width=\"24px\">\n",
              "    <path d=\"M0 0h24v24H0V0z\" fill=\"none\"/>\n",
              "    <path d=\"M18.56 5.44l.94 2.06.94-2.06 2.06-.94-2.06-.94-.94-2.06-.94 2.06-2.06.94zm-11 1L8.5 8.5l.94-2.06 2.06-.94-2.06-.94L8.5 2.5l-.94 2.06-2.06.94zm10 10l.94 2.06.94-2.06 2.06-.94-2.06-.94-.94-2.06-.94 2.06-2.06.94z\"/><path d=\"M17.41 7.96l-1.37-1.37c-.4-.4-.92-.59-1.43-.59-.52 0-1.04.2-1.43.59L10.3 9.45l-7.72 7.72c-.78.78-.78 2.05 0 2.83L4 21.41c.39.39.9.59 1.41.59.51 0 1.02-.2 1.41-.59l7.78-7.78 2.81-2.81c.8-.78.8-2.07 0-2.86zM5.41 20L4 18.59l7.72-7.72 1.47 1.35L5.41 20z\"/>\n",
              "  </svg>\n",
              "      </button>\n",
              "      \n",
              "  <style>\n",
              "    .colab-df-container {\n",
              "      display:flex;\n",
              "      flex-wrap:wrap;\n",
              "      gap: 12px;\n",
              "    }\n",
              "\n",
              "    .colab-df-convert {\n",
              "      background-color: #E8F0FE;\n",
              "      border: none;\n",
              "      border-radius: 50%;\n",
              "      cursor: pointer;\n",
              "      display: none;\n",
              "      fill: #1967D2;\n",
              "      height: 32px;\n",
              "      padding: 0 0 0 0;\n",
              "      width: 32px;\n",
              "    }\n",
              "\n",
              "    .colab-df-convert:hover {\n",
              "      background-color: #E2EBFA;\n",
              "      box-shadow: 0px 1px 2px rgba(60, 64, 67, 0.3), 0px 1px 3px 1px rgba(60, 64, 67, 0.15);\n",
              "      fill: #174EA6;\n",
              "    }\n",
              "\n",
              "    [theme=dark] .colab-df-convert {\n",
              "      background-color: #3B4455;\n",
              "      fill: #D2E3FC;\n",
              "    }\n",
              "\n",
              "    [theme=dark] .colab-df-convert:hover {\n",
              "      background-color: #434B5C;\n",
              "      box-shadow: 0px 1px 3px 1px rgba(0, 0, 0, 0.15);\n",
              "      filter: drop-shadow(0px 1px 2px rgba(0, 0, 0, 0.3));\n",
              "      fill: #FFFFFF;\n",
              "    }\n",
              "  </style>\n",
              "\n",
              "      <script>\n",
              "        const buttonEl =\n",
              "          document.querySelector('#df-a71de2ba-b588-430f-9b65-998013a3c2b3 button.colab-df-convert');\n",
              "        buttonEl.style.display =\n",
              "          google.colab.kernel.accessAllowed ? 'block' : 'none';\n",
              "\n",
              "        async function convertToInteractive(key) {\n",
              "          const element = document.querySelector('#df-a71de2ba-b588-430f-9b65-998013a3c2b3');\n",
              "          const dataTable =\n",
              "            await google.colab.kernel.invokeFunction('convertToInteractive',\n",
              "                                                     [key], {});\n",
              "          if (!dataTable) return;\n",
              "\n",
              "          const docLinkHtml = 'Like what you see? Visit the ' +\n",
              "            '<a target=\"_blank\" href=https://colab.research.google.com/notebooks/data_table.ipynb>data table notebook</a>'\n",
              "            + ' to learn more about interactive tables.';\n",
              "          element.innerHTML = '';\n",
              "          dataTable['output_type'] = 'display_data';\n",
              "          await google.colab.output.renderOutput(dataTable, element);\n",
              "          const docLink = document.createElement('div');\n",
              "          docLink.innerHTML = docLinkHtml;\n",
              "          element.appendChild(docLink);\n",
              "        }\n",
              "      </script>\n",
              "    </div>\n",
              "  </div>\n",
              "  "
            ]
          },
          "metadata": {},
          "execution_count": 5
        }
      ],
      "source": [
        "df_raw.head()"
      ]
    },
    {
      "cell_type": "markdown",
      "metadata": {
        "id": "cnuOH_4Fliop"
      },
      "source": [
        "### 1.5 - Creating Datawerehouse"
      ]
    },
    {
      "cell_type": "markdown",
      "metadata": {
        "id": "i27piK2Vlioq"
      },
      "source": [
        "##### 1.5.1 - Database"
      ]
    },
    {
      "cell_type": "code",
      "execution_count": 7,
      "metadata": {
        "id": "fXHUZt4flioq",
        "colab": {
          "base_uri": "https://localhost:8080/"
        },
        "outputId": "ee29f503-bbf1-4f7e-ed8b-fff81758417f"
      },
      "outputs": [
        {
          "output_type": "execute_result",
          "data": {
            "text/plain": [
              "6362620"
            ]
          },
          "metadata": {},
          "execution_count": 7
        }
      ],
      "source": [
        "# # creating database\n",
        "# path_local=\"C:/Users/Utente77/repos/blocker_fraud_company_PA002/datasets/\"\n",
        "# engine_db = create_engine(f\"sqlite:////{path_local}/ccd.db\", echo=False)\n",
        "# conn = sqlite3.Connection('blocker_fraud.db')\n",
        "# cursor = conn.cursor()\n",
        "\n",
        "# # create table\n",
        "# query = '''CREATE TABLE IF NOT EXISTS fraud(\n",
        "#                                 step INTEGER,\n",
        "#                                 type TEXT,\n",
        "#                                 amount INTEGER,\n",
        "#                                 nameOrig TEXT,\n",
        "#                                 oldbalanceOrg INTEGER,\n",
        "#                                 newbalanceOrig INTEGER,\n",
        "#                                 nameDest TEXT,\n",
        "#                                 oldbalanceDest INTEGER,\n",
        "#                                 newbalanceDest INTEGER,\n",
        "#                                 isFraud INTEGER,\n",
        "#                                 isFlaggedFraud INTEGER\n",
        "                                \n",
        "#                                 )'''\n",
        "\n",
        "# cursor.execute(query)\n",
        "# #engine = engine_db()\n",
        "# df_raw.to_sql('fraud', con=conn, if_exists='append', index=False)\n",
        "\n"
      ]
    },
    {
      "cell_type": "markdown",
      "metadata": {
        "id": "WVs7Qn15lioq"
      },
      "source": [
        "#### 1.5.2 - Data Collect from Database"
      ]
    },
    {
      "cell_type": "code",
      "execution_count": null,
      "metadata": {
        "id": "u-vsHKu9lioq"
      },
      "outputs": [],
      "source": [
        "# # Selecting data\n",
        "# query=\"\"\"\n",
        "#     SELECT *\n",
        "#     FROM fraud;\n",
        "\n",
        "# \"\"\"\n",
        "# df=pd.read_sql_query(query,conn)\n"
      ]
    },
    {
      "cell_type": "markdown",
      "metadata": {
        "id": "jn-DxraQliop"
      },
      "source": [
        "##### 1.5.3 - Rename Columns"
      ]
    },
    {
      "cell_type": "code",
      "execution_count": 6,
      "metadata": {
        "colab": {
          "base_uri": "https://localhost:8080/"
        },
        "id": "lyyGeW7eliop",
        "outputId": "ad77ba3f-7bcf-4b9e-e20a-2c9bf92bec6a"
      },
      "outputs": [
        {
          "output_type": "execute_result",
          "data": {
            "text/plain": [
              "Index(['step', 'type', 'amount', 'nameOrig', 'oldbalanceOrg', 'newbalanceOrig',\n",
              "       'nameDest', 'oldbalanceDest', 'newbalanceDest', 'isFraud',\n",
              "       'isFlaggedFraud'],\n",
              "      dtype='object')"
            ]
          },
          "metadata": {},
          "execution_count": 6
        }
      ],
      "source": [
        "# Old columns\n",
        "cols_old=df_raw.columns\n",
        "cols_old"
      ]
    },
    {
      "cell_type": "code",
      "execution_count": 7,
      "metadata": {
        "colab": {
          "base_uri": "https://localhost:8080/"
        },
        "id": "nvQyxl18lioq",
        "outputId": "51860162-ebd4-41d0-e97b-262c15ea9386",
        "scrolled": true
      },
      "outputs": [
        {
          "output_type": "execute_result",
          "data": {
            "text/plain": [
              "Index(['step', 'type', 'amount', 'name_orig', 'oldbalance_org',\n",
              "       'newbalance_orig', 'name_dest', 'oldbalance_dest', 'newbalance_dest',\n",
              "       'is_fraud', 'is_flagged_fraud'],\n",
              "      dtype='object')"
            ]
          },
          "metadata": {},
          "execution_count": 7
        }
      ],
      "source": [
        "# apply snakecase to columns names\n",
        "snakecase = lambda x: inflection.underscore(x)\n",
        "cols_new = list(map(snakecase, cols_old))\n",
        "# rename\n",
        "df_raw.columns = cols_new\n",
        "df_raw.columns"
      ]
    },
    {
      "cell_type": "markdown",
      "source": [
        "### 1.6  ***Cheking balance data***\n",
        "- Proportion , balanced data"
      ],
      "metadata": {
        "id": "c5NCwjFxx_VI"
      }
    },
    {
      "cell_type": "code",
      "source": [
        "# check type feature proportion\n",
        "df_raw['type'].value_counts(normalize=True)\n"
      ],
      "metadata": {
        "colab": {
          "base_uri": "https://localhost:8080/"
        },
        "id": "GovZJM2-xgGa",
        "outputId": "a89cd542-bc97-4d16-a904-81337df62c37"
      },
      "execution_count": 8,
      "outputs": [
        {
          "output_type": "execute_result",
          "data": {
            "text/plain": [
              "CASH_OUT    0.351663\n",
              "PAYMENT     0.338146\n",
              "CASH_IN     0.219923\n",
              "TRANSFER    0.083756\n",
              "DEBIT       0.006512\n",
              "Name: type, dtype: float64"
            ]
          },
          "metadata": {},
          "execution_count": 8
        }
      ]
    },
    {
      "cell_type": "code",
      "source": [
        "# check type feature proportion\n",
        "df_raw['is_fraud'].value_counts(normalize=True)\n"
      ],
      "metadata": {
        "colab": {
          "base_uri": "https://localhost:8080/"
        },
        "id": "SlSb_rRF661u",
        "outputId": "e54e52ba-7027-44b9-bc24-04344935c470"
      },
      "execution_count": 10,
      "outputs": [
        {
          "output_type": "execute_result",
          "data": {
            "text/plain": [
              "0    0.998709\n",
              "1    0.001291\n",
              "Name: is_fraud, dtype: float64"
            ]
          },
          "metadata": {},
          "execution_count": 10
        }
      ]
    },
    {
      "cell_type": "code",
      "source": [
        "# check type feature proportion\n",
        "df_raw['is_flagged_fraud'].value_counts(normalize=True)\n"
      ],
      "metadata": {
        "colab": {
          "base_uri": "https://localhost:8080/"
        },
        "id": "2-VlfWmM669S",
        "outputId": "0080053b-b837-485b-bb11-e41fe437b599"
      },
      "execution_count": 11,
      "outputs": [
        {
          "output_type": "execute_result",
          "data": {
            "text/plain": [
              "0    0.999997\n",
              "1    0.000003\n",
              "Name: is_flagged_fraud, dtype: float64"
            ]
          },
          "metadata": {},
          "execution_count": 11
        }
      ]
    },
    {
      "cell_type": "code",
      "source": [
        "# check type feature proportion\n",
        "df_raw['type'].value_counts(normalize=True)"
      ],
      "metadata": {
        "colab": {
          "base_uri": "https://localhost:8080/"
        },
        "id": "WO_Y5mhg67FC",
        "outputId": "cdc82df0-d65c-4bfd-cb18-0dd021ee37d1"
      },
      "execution_count": 12,
      "outputs": [
        {
          "output_type": "execute_result",
          "data": {
            "text/plain": [
              "CASH_OUT    0.351663\n",
              "PAYMENT     0.338146\n",
              "CASH_IN     0.219923\n",
              "TRANSFER    0.083756\n",
              "DEBIT       0.006512\n",
              "Name: type, dtype: float64"
            ]
          },
          "metadata": {},
          "execution_count": 12
        }
      ]
    },
    {
      "cell_type": "markdown",
      "source": [
        "### 1.7 Apply stratified sampling"
      ],
      "metadata": {
        "id": "EWb__Y8vyG0N"
      }
    },
    {
      "cell_type": "code",
      "source": [
        "# apply stratified sampling\n",
        "\n",
        "split = StratifiedShuffleSplit(n_splits=1, test_size=0.3, random_state=42)\n",
        "for train_1_index, train_2_index in split.split(df_raw, df_raw['is_fraud']):\n",
        "    strat_train_set = df_raw.loc[train_1_index]\n",
        "    strat_test_set = df_raw.loc[train_2_index]\n"
      ],
      "metadata": {
        "id": "c9A1prb4xsD7"
      },
      "execution_count": 13,
      "outputs": []
    },
    {
      "cell_type": "code",
      "source": [
        "strat_train_set.info()\n"
      ],
      "metadata": {
        "colab": {
          "base_uri": "https://localhost:8080/"
        },
        "id": "6SnUDehwykzL",
        "outputId": "87b95c2f-5a74-4a4a-b812-17bd317a9fe1"
      },
      "execution_count": 16,
      "outputs": [
        {
          "output_type": "stream",
          "name": "stdout",
          "text": [
            "<class 'pandas.core.frame.DataFrame'>\n",
            "Int64Index: 4453834 entries, 4310249 to 1541412\n",
            "Data columns (total 11 columns):\n",
            " #   Column            Dtype  \n",
            "---  ------            -----  \n",
            " 0   step              int64  \n",
            " 1   type              object \n",
            " 2   amount            float64\n",
            " 3   name_orig         object \n",
            " 4   oldbalance_org    float64\n",
            " 5   newbalance_orig   float64\n",
            " 6   name_dest         object \n",
            " 7   oldbalance_dest   float64\n",
            " 8   newbalance_dest   float64\n",
            " 9   is_fraud          int64  \n",
            " 10  is_flagged_fraud  int64  \n",
            "dtypes: float64(5), int64(3), object(3)\n",
            "memory usage: 407.8+ MB\n"
          ]
        }
      ]
    },
    {
      "cell_type": "code",
      "source": [
        "strat_test_set.info()"
      ],
      "metadata": {
        "colab": {
          "base_uri": "https://localhost:8080/"
        },
        "id": "mDhnsaRkDca2",
        "outputId": "2c04b218-c73e-425e-fe05-ec2a3a9737dc"
      },
      "execution_count": 17,
      "outputs": [
        {
          "output_type": "stream",
          "name": "stdout",
          "text": [
            "<class 'pandas.core.frame.DataFrame'>\n",
            "Int64Index: 1908786 entries, 1453282 to 5365974\n",
            "Data columns (total 11 columns):\n",
            " #   Column            Dtype  \n",
            "---  ------            -----  \n",
            " 0   step              int64  \n",
            " 1   type              object \n",
            " 2   amount            float64\n",
            " 3   name_orig         object \n",
            " 4   oldbalance_org    float64\n",
            " 5   newbalance_orig   float64\n",
            " 6   name_dest         object \n",
            " 7   oldbalance_dest   float64\n",
            " 8   newbalance_dest   float64\n",
            " 9   is_fraud          int64  \n",
            " 10  is_flagged_fraud  int64  \n",
            "dtypes: float64(5), int64(3), object(3)\n",
            "memory usage: 174.8+ MB\n"
          ]
        }
      ]
    },
    {
      "cell_type": "markdown",
      "metadata": {
        "id": "rvYDREBKlior"
      },
      "source": [
        "## 2.0 - Descriptive Analysis"
      ]
    },
    {
      "cell_type": "code",
      "source": [
        "# load sampled set for future notebook work\n",
        "df = pd.read_csv('/content/train_set_v02.csv', sep=',')\n",
        "#df = pd.read_csv('datasets/train_set_v02.csv')\n",
        "df.tail()"
      ],
      "metadata": {
        "colab": {
          "base_uri": "https://localhost:8080/",
          "height": 206
        },
        "id": "gOo5-gXuyffy",
        "outputId": "a9ef1674-26a7-4a37-a86e-8743c34dedef"
      },
      "execution_count": 22,
      "outputs": [
        {
          "output_type": "execute_result",
          "data": {
            "text/plain": [
              "        step      type     amount    name_orig  oldbalance_org  \\\n",
              "160453   253  CASH_OUT  204701.03  C1622157331            0.00   \n",
              "160454   253   PAYMENT    9505.98   C923963130         7312.00   \n",
              "160455   298   CASH_IN  132753.95   C540599726     24002210.81   \n",
              "160456   232  CASH_OUT  315435.00   C462907113          125.00   \n",
              "160457   236   CASH_IN  220219.03  C1082782647      6085277.00   \n",
              "\n",
              "        newbalance_orig    name_dest  oldbalance_dest  newbalance_dest  \\\n",
              "160453             0.00   C220146073        507816.01        712517.04   \n",
              "160454             0.00   M161644108             0.00             0.00   \n",
              "160455      24134964.76   C307127360       1186205.98       1053452.03   \n",
              "160456             0.00  C1254839494             0.00        315435.00   \n",
              "160457              NaN          NaN              NaN              NaN   \n",
              "\n",
              "        is_fraud  is_flagged_fraud  \n",
              "160453       0.0               0.0  \n",
              "160454       0.0               0.0  \n",
              "160455       0.0               0.0  \n",
              "160456       0.0               0.0  \n",
              "160457       NaN               NaN  "
            ],
            "text/html": [
              "\n",
              "  <div id=\"df-c942ca03-3591-40e9-8fe1-37c62ef59e76\">\n",
              "    <div class=\"colab-df-container\">\n",
              "      <div>\n",
              "<style scoped>\n",
              "    .dataframe tbody tr th:only-of-type {\n",
              "        vertical-align: middle;\n",
              "    }\n",
              "\n",
              "    .dataframe tbody tr th {\n",
              "        vertical-align: top;\n",
              "    }\n",
              "\n",
              "    .dataframe thead th {\n",
              "        text-align: right;\n",
              "    }\n",
              "</style>\n",
              "<table border=\"1\" class=\"dataframe\">\n",
              "  <thead>\n",
              "    <tr style=\"text-align: right;\">\n",
              "      <th></th>\n",
              "      <th>step</th>\n",
              "      <th>type</th>\n",
              "      <th>amount</th>\n",
              "      <th>name_orig</th>\n",
              "      <th>oldbalance_org</th>\n",
              "      <th>newbalance_orig</th>\n",
              "      <th>name_dest</th>\n",
              "      <th>oldbalance_dest</th>\n",
              "      <th>newbalance_dest</th>\n",
              "      <th>is_fraud</th>\n",
              "      <th>is_flagged_fraud</th>\n",
              "    </tr>\n",
              "  </thead>\n",
              "  <tbody>\n",
              "    <tr>\n",
              "      <th>160453</th>\n",
              "      <td>253</td>\n",
              "      <td>CASH_OUT</td>\n",
              "      <td>204701.03</td>\n",
              "      <td>C1622157331</td>\n",
              "      <td>0.00</td>\n",
              "      <td>0.00</td>\n",
              "      <td>C220146073</td>\n",
              "      <td>507816.01</td>\n",
              "      <td>712517.04</td>\n",
              "      <td>0.0</td>\n",
              "      <td>0.0</td>\n",
              "    </tr>\n",
              "    <tr>\n",
              "      <th>160454</th>\n",
              "      <td>253</td>\n",
              "      <td>PAYMENT</td>\n",
              "      <td>9505.98</td>\n",
              "      <td>C923963130</td>\n",
              "      <td>7312.00</td>\n",
              "      <td>0.00</td>\n",
              "      <td>M161644108</td>\n",
              "      <td>0.00</td>\n",
              "      <td>0.00</td>\n",
              "      <td>0.0</td>\n",
              "      <td>0.0</td>\n",
              "    </tr>\n",
              "    <tr>\n",
              "      <th>160455</th>\n",
              "      <td>298</td>\n",
              "      <td>CASH_IN</td>\n",
              "      <td>132753.95</td>\n",
              "      <td>C540599726</td>\n",
              "      <td>24002210.81</td>\n",
              "      <td>24134964.76</td>\n",
              "      <td>C307127360</td>\n",
              "      <td>1186205.98</td>\n",
              "      <td>1053452.03</td>\n",
              "      <td>0.0</td>\n",
              "      <td>0.0</td>\n",
              "    </tr>\n",
              "    <tr>\n",
              "      <th>160456</th>\n",
              "      <td>232</td>\n",
              "      <td>CASH_OUT</td>\n",
              "      <td>315435.00</td>\n",
              "      <td>C462907113</td>\n",
              "      <td>125.00</td>\n",
              "      <td>0.00</td>\n",
              "      <td>C1254839494</td>\n",
              "      <td>0.00</td>\n",
              "      <td>315435.00</td>\n",
              "      <td>0.0</td>\n",
              "      <td>0.0</td>\n",
              "    </tr>\n",
              "    <tr>\n",
              "      <th>160457</th>\n",
              "      <td>236</td>\n",
              "      <td>CASH_IN</td>\n",
              "      <td>220219.03</td>\n",
              "      <td>C1082782647</td>\n",
              "      <td>6085277.00</td>\n",
              "      <td>NaN</td>\n",
              "      <td>NaN</td>\n",
              "      <td>NaN</td>\n",
              "      <td>NaN</td>\n",
              "      <td>NaN</td>\n",
              "      <td>NaN</td>\n",
              "    </tr>\n",
              "  </tbody>\n",
              "</table>\n",
              "</div>\n",
              "      <button class=\"colab-df-convert\" onclick=\"convertToInteractive('df-c942ca03-3591-40e9-8fe1-37c62ef59e76')\"\n",
              "              title=\"Convert this dataframe to an interactive table.\"\n",
              "              style=\"display:none;\">\n",
              "        \n",
              "  <svg xmlns=\"http://www.w3.org/2000/svg\" height=\"24px\"viewBox=\"0 0 24 24\"\n",
              "       width=\"24px\">\n",
              "    <path d=\"M0 0h24v24H0V0z\" fill=\"none\"/>\n",
              "    <path d=\"M18.56 5.44l.94 2.06.94-2.06 2.06-.94-2.06-.94-.94-2.06-.94 2.06-2.06.94zm-11 1L8.5 8.5l.94-2.06 2.06-.94-2.06-.94L8.5 2.5l-.94 2.06-2.06.94zm10 10l.94 2.06.94-2.06 2.06-.94-2.06-.94-.94-2.06-.94 2.06-2.06.94z\"/><path d=\"M17.41 7.96l-1.37-1.37c-.4-.4-.92-.59-1.43-.59-.52 0-1.04.2-1.43.59L10.3 9.45l-7.72 7.72c-.78.78-.78 2.05 0 2.83L4 21.41c.39.39.9.59 1.41.59.51 0 1.02-.2 1.41-.59l7.78-7.78 2.81-2.81c.8-.78.8-2.07 0-2.86zM5.41 20L4 18.59l7.72-7.72 1.47 1.35L5.41 20z\"/>\n",
              "  </svg>\n",
              "      </button>\n",
              "      \n",
              "  <style>\n",
              "    .colab-df-container {\n",
              "      display:flex;\n",
              "      flex-wrap:wrap;\n",
              "      gap: 12px;\n",
              "    }\n",
              "\n",
              "    .colab-df-convert {\n",
              "      background-color: #E8F0FE;\n",
              "      border: none;\n",
              "      border-radius: 50%;\n",
              "      cursor: pointer;\n",
              "      display: none;\n",
              "      fill: #1967D2;\n",
              "      height: 32px;\n",
              "      padding: 0 0 0 0;\n",
              "      width: 32px;\n",
              "    }\n",
              "\n",
              "    .colab-df-convert:hover {\n",
              "      background-color: #E2EBFA;\n",
              "      box-shadow: 0px 1px 2px rgba(60, 64, 67, 0.3), 0px 1px 3px 1px rgba(60, 64, 67, 0.15);\n",
              "      fill: #174EA6;\n",
              "    }\n",
              "\n",
              "    [theme=dark] .colab-df-convert {\n",
              "      background-color: #3B4455;\n",
              "      fill: #D2E3FC;\n",
              "    }\n",
              "\n",
              "    [theme=dark] .colab-df-convert:hover {\n",
              "      background-color: #434B5C;\n",
              "      box-shadow: 0px 1px 3px 1px rgba(0, 0, 0, 0.15);\n",
              "      filter: drop-shadow(0px 1px 2px rgba(0, 0, 0, 0.3));\n",
              "      fill: #FFFFFF;\n",
              "    }\n",
              "  </style>\n",
              "\n",
              "      <script>\n",
              "        const buttonEl =\n",
              "          document.querySelector('#df-c942ca03-3591-40e9-8fe1-37c62ef59e76 button.colab-df-convert');\n",
              "        buttonEl.style.display =\n",
              "          google.colab.kernel.accessAllowed ? 'block' : 'none';\n",
              "\n",
              "        async function convertToInteractive(key) {\n",
              "          const element = document.querySelector('#df-c942ca03-3591-40e9-8fe1-37c62ef59e76');\n",
              "          const dataTable =\n",
              "            await google.colab.kernel.invokeFunction('convertToInteractive',\n",
              "                                                     [key], {});\n",
              "          if (!dataTable) return;\n",
              "\n",
              "          const docLinkHtml = 'Like what you see? Visit the ' +\n",
              "            '<a target=\"_blank\" href=https://colab.research.google.com/notebooks/data_table.ipynb>data table notebook</a>'\n",
              "            + ' to learn more about interactive tables.';\n",
              "          element.innerHTML = '';\n",
              "          dataTable['output_type'] = 'display_data';\n",
              "          await google.colab.output.renderOutput(dataTable, element);\n",
              "          const docLink = document.createElement('div');\n",
              "          docLink.innerHTML = docLinkHtml;\n",
              "          element.appendChild(docLink);\n",
              "        }\n",
              "      </script>\n",
              "    </div>\n",
              "  </div>\n",
              "  "
            ]
          },
          "metadata": {},
          "execution_count": 22
        }
      ]
    },
    {
      "cell_type": "markdown",
      "metadata": {
        "id": "i-tVkDA5lior"
      },
      "source": [
        "### 2.1 - Dimensions"
      ]
    },
    {
      "cell_type": "code",
      "execution_count": 23,
      "metadata": {
        "colab": {
          "base_uri": "https://localhost:8080/"
        },
        "id": "SHaqQnoslior",
        "outputId": "26d0c7a6-aef4-4339-ee42-efca4e81f23a"
      },
      "outputs": [
        {
          "output_type": "stream",
          "name": "stdout",
          "text": [
            "160458 linhas.\n",
            "11 colunas.\n"
          ]
        }
      ],
      "source": [
        "# Printing the data dimensions, how much rows and columns\n",
        "print(f'{df.shape[0]} linhas.')\n",
        "print(f'{df.shape[1]} colunas.')"
      ]
    },
    {
      "cell_type": "markdown",
      "metadata": {
        "id": "9mj5VUy9lior"
      },
      "source": [
        "### 2.2 - Datatype and NaN fillout"
      ]
    },
    {
      "cell_type": "code",
      "execution_count": 24,
      "metadata": {
        "colab": {
          "base_uri": "https://localhost:8080/"
        },
        "id": "Bs0Xbil-lior",
        "outputId": "e2c5eee8-b777-44fe-a059-f3e7e5e8ce62"
      },
      "outputs": [
        {
          "output_type": "stream",
          "name": "stdout",
          "text": [
            "<class 'pandas.core.frame.DataFrame'>\n",
            "RangeIndex: 160458 entries, 0 to 160457\n",
            "Data columns (total 11 columns):\n",
            " #   Column            Non-Null Count   Dtype  \n",
            "---  ------            --------------   -----  \n",
            " 0   step              160458 non-null  int64  \n",
            " 1   type              160458 non-null  object \n",
            " 2   amount            160458 non-null  float64\n",
            " 3   name_orig         160458 non-null  object \n",
            " 4   oldbalance_org    160458 non-null  float64\n",
            " 5   newbalance_orig   160457 non-null  float64\n",
            " 6   name_dest         160457 non-null  object \n",
            " 7   oldbalance_dest   160457 non-null  float64\n",
            " 8   newbalance_dest   160457 non-null  float64\n",
            " 9   is_fraud          160457 non-null  float64\n",
            " 10  is_flagged_fraud  160457 non-null  float64\n",
            "dtypes: float64(7), int64(1), object(3)\n",
            "memory usage: 13.5+ MB\n"
          ]
        }
      ],
      "source": [
        "# Columns Datatypes\n",
        "df.info()"
      ]
    },
    {
      "cell_type": "code",
      "execution_count": 26,
      "metadata": {
        "colab": {
          "base_uri": "https://localhost:8080/",
          "height": 394
        },
        "id": "46nKpXyaaR6w",
        "outputId": "48a4831a-6248-40ae-d6ae-fc547ea1bd8a"
      },
      "outputs": [
        {
          "output_type": "execute_result",
          "data": {
            "text/plain": [
              "                  NaN     NaN %\n",
              "newbalance_orig     1  0.000623\n",
              "name_dest           1  0.000623\n",
              "oldbalance_dest     1  0.000623\n",
              "newbalance_dest     1  0.000623\n",
              "is_fraud            1  0.000623\n",
              "is_flagged_fraud    1  0.000623\n",
              "step                0  0.000000\n",
              "type                0  0.000000\n",
              "amount              0  0.000000\n",
              "name_orig           0  0.000000\n",
              "oldbalance_org      0  0.000000"
            ],
            "text/html": [
              "\n",
              "  <div id=\"df-ac22f6c0-08e7-444c-b4a0-0107799776f5\">\n",
              "    <div class=\"colab-df-container\">\n",
              "      <div>\n",
              "<style scoped>\n",
              "    .dataframe tbody tr th:only-of-type {\n",
              "        vertical-align: middle;\n",
              "    }\n",
              "\n",
              "    .dataframe tbody tr th {\n",
              "        vertical-align: top;\n",
              "    }\n",
              "\n",
              "    .dataframe thead th {\n",
              "        text-align: right;\n",
              "    }\n",
              "</style>\n",
              "<table border=\"1\" class=\"dataframe\">\n",
              "  <thead>\n",
              "    <tr style=\"text-align: right;\">\n",
              "      <th></th>\n",
              "      <th>NaN</th>\n",
              "      <th>NaN %</th>\n",
              "    </tr>\n",
              "  </thead>\n",
              "  <tbody>\n",
              "    <tr>\n",
              "      <th>newbalance_orig</th>\n",
              "      <td>1</td>\n",
              "      <td>0.000623</td>\n",
              "    </tr>\n",
              "    <tr>\n",
              "      <th>name_dest</th>\n",
              "      <td>1</td>\n",
              "      <td>0.000623</td>\n",
              "    </tr>\n",
              "    <tr>\n",
              "      <th>oldbalance_dest</th>\n",
              "      <td>1</td>\n",
              "      <td>0.000623</td>\n",
              "    </tr>\n",
              "    <tr>\n",
              "      <th>newbalance_dest</th>\n",
              "      <td>1</td>\n",
              "      <td>0.000623</td>\n",
              "    </tr>\n",
              "    <tr>\n",
              "      <th>is_fraud</th>\n",
              "      <td>1</td>\n",
              "      <td>0.000623</td>\n",
              "    </tr>\n",
              "    <tr>\n",
              "      <th>is_flagged_fraud</th>\n",
              "      <td>1</td>\n",
              "      <td>0.000623</td>\n",
              "    </tr>\n",
              "    <tr>\n",
              "      <th>step</th>\n",
              "      <td>0</td>\n",
              "      <td>0.000000</td>\n",
              "    </tr>\n",
              "    <tr>\n",
              "      <th>type</th>\n",
              "      <td>0</td>\n",
              "      <td>0.000000</td>\n",
              "    </tr>\n",
              "    <tr>\n",
              "      <th>amount</th>\n",
              "      <td>0</td>\n",
              "      <td>0.000000</td>\n",
              "    </tr>\n",
              "    <tr>\n",
              "      <th>name_orig</th>\n",
              "      <td>0</td>\n",
              "      <td>0.000000</td>\n",
              "    </tr>\n",
              "    <tr>\n",
              "      <th>oldbalance_org</th>\n",
              "      <td>0</td>\n",
              "      <td>0.000000</td>\n",
              "    </tr>\n",
              "  </tbody>\n",
              "</table>\n",
              "</div>\n",
              "      <button class=\"colab-df-convert\" onclick=\"convertToInteractive('df-ac22f6c0-08e7-444c-b4a0-0107799776f5')\"\n",
              "              title=\"Convert this dataframe to an interactive table.\"\n",
              "              style=\"display:none;\">\n",
              "        \n",
              "  <svg xmlns=\"http://www.w3.org/2000/svg\" height=\"24px\"viewBox=\"0 0 24 24\"\n",
              "       width=\"24px\">\n",
              "    <path d=\"M0 0h24v24H0V0z\" fill=\"none\"/>\n",
              "    <path d=\"M18.56 5.44l.94 2.06.94-2.06 2.06-.94-2.06-.94-.94-2.06-.94 2.06-2.06.94zm-11 1L8.5 8.5l.94-2.06 2.06-.94-2.06-.94L8.5 2.5l-.94 2.06-2.06.94zm10 10l.94 2.06.94-2.06 2.06-.94-2.06-.94-.94-2.06-.94 2.06-2.06.94z\"/><path d=\"M17.41 7.96l-1.37-1.37c-.4-.4-.92-.59-1.43-.59-.52 0-1.04.2-1.43.59L10.3 9.45l-7.72 7.72c-.78.78-.78 2.05 0 2.83L4 21.41c.39.39.9.59 1.41.59.51 0 1.02-.2 1.41-.59l7.78-7.78 2.81-2.81c.8-.78.8-2.07 0-2.86zM5.41 20L4 18.59l7.72-7.72 1.47 1.35L5.41 20z\"/>\n",
              "  </svg>\n",
              "      </button>\n",
              "      \n",
              "  <style>\n",
              "    .colab-df-container {\n",
              "      display:flex;\n",
              "      flex-wrap:wrap;\n",
              "      gap: 12px;\n",
              "    }\n",
              "\n",
              "    .colab-df-convert {\n",
              "      background-color: #E8F0FE;\n",
              "      border: none;\n",
              "      border-radius: 50%;\n",
              "      cursor: pointer;\n",
              "      display: none;\n",
              "      fill: #1967D2;\n",
              "      height: 32px;\n",
              "      padding: 0 0 0 0;\n",
              "      width: 32px;\n",
              "    }\n",
              "\n",
              "    .colab-df-convert:hover {\n",
              "      background-color: #E2EBFA;\n",
              "      box-shadow: 0px 1px 2px rgba(60, 64, 67, 0.3), 0px 1px 3px 1px rgba(60, 64, 67, 0.15);\n",
              "      fill: #174EA6;\n",
              "    }\n",
              "\n",
              "    [theme=dark] .colab-df-convert {\n",
              "      background-color: #3B4455;\n",
              "      fill: #D2E3FC;\n",
              "    }\n",
              "\n",
              "    [theme=dark] .colab-df-convert:hover {\n",
              "      background-color: #434B5C;\n",
              "      box-shadow: 0px 1px 3px 1px rgba(0, 0, 0, 0.15);\n",
              "      filter: drop-shadow(0px 1px 2px rgba(0, 0, 0, 0.3));\n",
              "      fill: #FFFFFF;\n",
              "    }\n",
              "  </style>\n",
              "\n",
              "      <script>\n",
              "        const buttonEl =\n",
              "          document.querySelector('#df-ac22f6c0-08e7-444c-b4a0-0107799776f5 button.colab-df-convert');\n",
              "        buttonEl.style.display =\n",
              "          google.colab.kernel.accessAllowed ? 'block' : 'none';\n",
              "\n",
              "        async function convertToInteractive(key) {\n",
              "          const element = document.querySelector('#df-ac22f6c0-08e7-444c-b4a0-0107799776f5');\n",
              "          const dataTable =\n",
              "            await google.colab.kernel.invokeFunction('convertToInteractive',\n",
              "                                                     [key], {});\n",
              "          if (!dataTable) return;\n",
              "\n",
              "          const docLinkHtml = 'Like what you see? Visit the ' +\n",
              "            '<a target=\"_blank\" href=https://colab.research.google.com/notebooks/data_table.ipynb>data table notebook</a>'\n",
              "            + ' to learn more about interactive tables.';\n",
              "          element.innerHTML = '';\n",
              "          dataTable['output_type'] = 'display_data';\n",
              "          await google.colab.output.renderOutput(dataTable, element);\n",
              "          const docLink = document.createElement('div');\n",
              "          docLink.innerHTML = docLinkHtml;\n",
              "          element.appendChild(docLink);\n",
              "        }\n",
              "      </script>\n",
              "    </div>\n",
              "  </div>\n",
              "  "
            ]
          },
          "metadata": {},
          "execution_count": 26
        }
      ],
      "source": [
        "aux=df.isna().sum().sort_values(ascending=False)\n",
        "aux1=df.isna().sum().sort_values(ascending=False)/df.shape[0]*100\n",
        "\n",
        "na=pd.concat([aux,aux1],axis=1)\n",
        "na.columns=['NaN', 'NaN %']\n",
        "na"
      ]
    },
    {
      "cell_type": "code",
      "execution_count": null,
      "metadata": {
        "id": "1dUZ7NHzlios"
      },
      "outputs": [],
      "source": [
        "#Image('/content/Cardio_Disease.png')\n",
        "Image(r'C:\\Users\\Utente77\\repos\\cardio_catch_disease_PA001\\img\\Cardio_Disease.png')"
      ]
    },
    {
      "cell_type": "markdown",
      "metadata": {
        "id": "CvP0OjSqlios"
      },
      "source": [
        "### 2.3 - Data Description"
      ]
    },
    {
      "cell_type": "code",
      "execution_count": null,
      "metadata": {
        "id": "Z55JRtjqlios"
      },
      "outputs": [],
      "source": [
        "# profile=ProfileReport(df, title=\"Pandas Profiling Report\")\n",
        "# profile.to_file(r\"C:\\Users\\Utente77\\repos\\cardio_catch_disease_PA001\\img\\report.html\")\n",
        "# profile"
      ]
    },
    {
      "cell_type": "code",
      "execution_count": null,
      "metadata": {
        "id": "UM3HZik4liot"
      },
      "outputs": [],
      "source": [
        "# Descriptive statistics \n",
        "\n",
        "describe = df.describe().T.drop('id', axis=0)\n",
        "describe['range'] = describe['max'] - describe['min']\n",
        "describe['median'] = df.apply( np.median )\n",
        "describe['kurtosis'] = df.apply( kurtosis )\n",
        "describe['skew'] = df.apply( skew )\n",
        "describe"
      ]
    },
    {
      "cell_type": "markdown",
      "metadata": {
        "id": "uTKjXantJSSt"
      },
      "source": [
        "### ***Problematics***\n",
        "- age in days\n",
        "- hight_pressure min above 0\n",
        "- low_pressure min above \n",
        "\n"
      ]
    },
    {
      "cell_type": "code",
      "source": [
        "# select categorical attributes\n",
        "cat_attr = df.select_dtypes(exclude=['int64', 'float64'])"
      ],
      "metadata": {
        "id": "qDcEMcTVzDPi"
      },
      "execution_count": null,
      "outputs": []
    },
    {
      "cell_type": "code",
      "source": [
        "cat_attr.value_counts()"
      ],
      "metadata": {
        "id": "bL53e4wCzEfK"
      },
      "execution_count": null,
      "outputs": []
    },
    {
      "cell_type": "code",
      "source": [
        "a=pd.DataFrame(df['is_fraud'].value_counts(normalize=False))\n",
        "b=pd.DataFrame(df['is_fraud'].value_counts(normalize=True))\n",
        "c=pd.DataFrame(df['is_flagged_fraud'].value_counts(normalize=False))\n",
        "d=pd.DataFrame(df['is_flagged_fraud'].value_counts(normalize=True))\n",
        "pd.concat([a,c,b,d],axis=1)"
      ],
      "metadata": {
        "id": "1ZeaA_FmzHjr"
      },
      "execution_count": null,
      "outputs": []
    },
    {
      "cell_type": "markdown",
      "metadata": {
        "id": "_8fzLkyrliot"
      },
      "source": [
        "## 3.0 - Feature Engineering"
      ]
    },
    {
      "cell_type": "code",
      "execution_count": null,
      "metadata": {
        "id": "jPXZ1AQ0liot"
      },
      "outputs": [],
      "source": [
        "df1=df.copy()"
      ]
    },
    {
      "cell_type": "code",
      "execution_count": null,
      "metadata": {
        "id": "vOYesUV9lios"
      },
      "outputs": [],
      "source": [
        "# age - change days to year old\n",
        "df1['age'] = (df1['age'] / 365).astype('int')\n",
        "\n",
        "# height - change centimeters to meters\n",
        "df1['height'] = (df1['height'] / 100)"
      ]
    },
    {
      "cell_type": "markdown",
      "metadata": {
        "id": "DrMQxLTlg1AK"
      },
      "source": [
        "<h1>BMI Levels</h1>\n",
        "\n",
        "![Cardio Image](https://www.builtlean.com/wp-content/uploads/2013/06/Bmi-chart-1.jpg)\n"
      ]
    },
    {
      "cell_type": "code",
      "execution_count": null,
      "metadata": {
        "id": "UuIfNfrgliou"
      },
      "outputs": [],
      "source": [
        "# BMI calculus and slices in four levels\n",
        "df1['bmi'] = (df1['weight']/(df1['height'] * df1['height']))\n",
        "df1['bmi_level'] = df1['bmi'].apply(lambda x: \n",
        "                                              0 if x <= 18.5 else\n",
        "                                              1      if x >  18.5 and x <= 24.9 else\n",
        "                                              2  if x >= 25.0 and x <= 29.9 else\n",
        "                                              3)"
      ]
    },
    {
      "cell_type": "markdown",
      "metadata": {
        "id": "xj-UlcXoeMio"
      },
      "source": [
        "<h1>Diastolic and systolic blood pressure</h1>\n",
        "\n",
        "![Cardio Image](https://www.bloomsburysurgery.nhs.uk/media/content/images/bp-range-chart.jpg)\n"
      ]
    },
    {
      "cell_type": "code",
      "execution_count": null,
      "metadata": {
        "id": "eqps3oHmliou"
      },
      "outputs": [],
      "source": [
        "# Hypertension and Hipotension binary\n",
        "df1['hypertension'] = df1.apply(lambda x: 1 if x[4] >=140 and x[5] >= 90 else 0, axis=1)\n",
        "df1['hypotension'] = df1.apply(lambda x: 1 if x[4] <=90 and x[5] <= 60 else 0, axis=1)"
      ]
    },
    {
      "cell_type": "code",
      "execution_count": null,
      "metadata": {
        "id": "C3yhuDZTliou"
      },
      "outputs": [],
      "source": [
        "# A difference between systolic and diastolic arterial pressure, \n",
        "\n",
        "df1['difference'] = df1['hight_pressure'] - df1['low_pressure'] # A difference between systolic and diastolic arterial pressure\n",
        "df1['convergent'] = df1['difference'].apply(lambda x: 1 if x <= 30 else 0) # lesser than 30mmhg called convergent \n",
        "df1['divergent'] = df1['difference'].apply(lambda x: 1 if x >= 60 else 0)# and upper than 60mmhg called divergent "
      ]
    },
    {
      "cell_type": "code",
      "execution_count": null,
      "metadata": {
        "id": "Ez43w-rvliou"
      },
      "outputs": [],
      "source": [
        "# Slicing ages with three ranges\n",
        "df1['age_range'] = df1['age'].apply(lambda x: 1    if x <= 50 \n",
        "                                                   else 2   if x >= 51 and x <= 59 \n",
        "                                                   else 3 if x >= 60 \n",
        "                                                   else x)"
      ]
    },
    {
      "cell_type": "code",
      "execution_count": null,
      "metadata": {
        "id": "0mRbAX2-liou"
      },
      "outputs": [],
      "source": [
        "df1['weight_range'] = df1['weight'].apply(\n",
        "    lambda x:   0.50 if x <= 50  else\n",
        "                0.75 if x >= 51  and x <= 75 else\n",
        "                1.00 if x >= 76  and x <= 100 else\n",
        "                1.25 if x >= 101 and x <= 125 else\n",
        "                1.50 if x >= 126 and x <= 150 else\n",
        "                1.75 if x >= 151 and x <= 175 else 2.00)"
      ]
    },
    {
      "cell_type": "code",
      "execution_count": null,
      "metadata": {
        "id": "33I1J8z9b5qV"
      },
      "outputs": [],
      "source": [
        "# Descriptive statistics after feature engineer \n",
        "\n",
        "describe = df1.describe().T.drop('id', axis=0)\n",
        "describe['range'] = describe['max'] - describe['min']\n",
        "describe['median'] = df1.apply( np.median )\n",
        "describe['kurtosis'] = df1.apply( kurtosis )\n",
        "describe['skew'] = df1.apply( skew )\n",
        "describe"
      ]
    },
    {
      "cell_type": "markdown",
      "metadata": {
        "id": "J7KZhvIJliou"
      },
      "source": [
        "## 4.0 - Data Filtering"
      ]
    },
    {
      "cell_type": "code",
      "execution_count": null,
      "metadata": {
        "id": "Py_Y_-bBliou"
      },
      "outputs": [],
      "source": [
        "# sets plot size\n",
        "plt.figure(figsize=(16,6))\n",
        "# plots scatterplot\n",
        "plt.subplot(1,3,1)\n",
        "sns.scatterplot(x='height', y='weight', data=df1, hue='age_range', palette='rainbow', alpha=0.75)\n",
        "plt.xlabel(\"Height (m)\")\n",
        "plt.ylabel(\"Weight (kg)\")\n",
        "plt.title(\"Weight x Height\", fontsize=14)\n",
        "\n",
        "plt.subplot(1,3,2)\n",
        "plt.title('Height')\n",
        "sns.boxplot(df1['height']);\n",
        "\n",
        "plt.subplot(1,3,3)\n",
        "plt.title('Weight')\n",
        "sns.boxplot(df1['weight']);\n",
        "\n",
        "# displays the plot\n",
        "plt.show()"
      ]
    },
    {
      "cell_type": "code",
      "execution_count": null,
      "metadata": {
        "id": "F3f3ZJNgceEl"
      },
      "outputs": [],
      "source": [
        "# sets plot size\n",
        "plt.figure(figsize=(14,8))\n",
        "\n",
        "# plots scatterplot\n",
        "plt.subplot(1,2,1)\n",
        "sns.scatterplot(x='age', y='height', data=df1, hue='weight', size='weight', alpha=0.75)\n",
        "plt.xlabel(\"Age (years)\")\n",
        "plt.ylabel(\"Height (m)\")\n",
        "plt.title(\"Height x Age\", fontsize=14)\n",
        "\n",
        "# plots scatterplot\n",
        "plt.subplot(1,2,2)\n",
        "sns.scatterplot(x='age', y='weight', data=df1, hue='height', size='height', alpha=0.75)\n",
        "plt.xlabel(\"Age (years)\")\n",
        "plt.ylabel(\"Weight (kg)\")\n",
        "plt.title(\"Weight x Age\", fontsize=14)\n",
        "\n",
        "# displays the plot\n",
        "plt.show()"
      ]
    },
    {
      "cell_type": "code",
      "execution_count": null,
      "metadata": {
        "id": "S4ab68OuecfB"
      },
      "outputs": [],
      "source": [
        "# sets plot size\n",
        "plt.figure(figsize=(16,12))\n",
        "\n",
        "# plots scatterplot\n",
        "plt.subplot(2,2,1)\n",
        "sns.scatterplot(x='age', y='hight_pressure', data=df1, hue='weight', size='weight', alpha=0.75)\n",
        "plt.xlabel(\"Age (years)\")\n",
        "plt.ylabel(\"Systolic blood pressure\")\n",
        "plt.title(\"Systolic x Age\", fontsize=14)\n",
        "\n",
        "plt.subplot(2,2,3)\n",
        "sns.scatterplot(x='age', y='low_pressure', data=df1, hue='weight', size='weight', alpha=0.75)\n",
        "plt.xlabel(\"Age (years)\")\n",
        "plt.ylabel(\"Diastolic blood pressure\")\n",
        "plt.title(\"Diastolic x Age\", fontsize=14)\n",
        "\n",
        "plt.subplot(2,2,2)\n",
        "plt.title('Hight Pressure')\n",
        "sns.boxplot(df1['hight_pressure']);\n",
        "\n",
        "plt.subplot(2,2,4)\n",
        "plt.title('Low Pressure')\n",
        "sns.boxplot(df1['low_pressure']);\n",
        "\n",
        "# displays the plot\n",
        "plt.show()"
      ]
    },
    {
      "cell_type": "code",
      "execution_count": null,
      "metadata": {
        "id": "zCqWDls0gcA_"
      },
      "outputs": [],
      "source": [
        "# Boxplot from numerical data\n",
        "plt.figure(figsize=(16,6))\n",
        "\n",
        "plt.subplot(1,2,1)\n",
        "plt.title('Difference')\n",
        "sns.boxplot(df1['difference']);\n",
        "\n",
        "plt.subplot(1,2,2)\n",
        "plt.title('BMI')\n",
        "sns.boxplot(df1['bmi']);\n",
        "\n"
      ]
    },
    {
      "cell_type": "markdown",
      "metadata": {
        "id": "cq96MGsUliot"
      },
      "source": [
        "#### 2.3.1  Inconsistent numbers of **hight pressure** and **low pressure** \n"
      ]
    },
    {
      "cell_type": "code",
      "execution_count": null,
      "metadata": {
        "id": "Y2M6yqP3daru"
      },
      "outputs": [],
      "source": [
        "# calculates Q1, Q3 and IQR\n",
        "Q1 = np.quantile(df1['hight_pressure'], .25)\n",
        "Q3 = np.quantile(df1['hight_pressure'], .75)\n",
        "IQR = Q3 - Q1\n",
        "\n",
        "# calculates the outliers boundaries through statistical relationship\n",
        "low_outliers_h = Q1 - 1.5 * IQR\n",
        "high_outliers_h = Q3 + 1.5 * IQR\n",
        "\n",
        "print(\"Systolic boundaries for outliers\")\n",
        "print(f\"Q1 = {Q1}\\nQ3 = {Q3}\\nIQR = {IQR}\\nlow_outliers = {low_outliers_h}\\nhigh_outliers = {high_outliers_h}\")\n",
        "\n",
        "\n",
        "# calculates Q1, Q3 and IQR\n",
        "Q1 = np.quantile(df1['low_pressure'], .25)\n",
        "Q3 = np.quantile(df1['low_pressure'], .75)\n",
        "IQR = Q3 - Q1\n",
        "\n",
        "# calculates the outliers boundaries through statistical relationship\n",
        "low_outliers_l = Q1 - 1.5 * IQR\n",
        "high_outliers_l = Q3 + 1.5 * IQR\n",
        "\n",
        "print(\"\\nDiastolic boundaries for outliers\")\n",
        "print(f\"Q1 = {Q1}\\nQ3 = {Q3}\\nIQR = {IQR}\\nlow_outliers = {low_outliers_l}\\nhigh_outliers = {high_outliers_l}\")"
      ]
    },
    {
      "cell_type": "code",
      "execution_count": null,
      "metadata": {
        "id": "PmIonRw9liot"
      },
      "outputs": [],
      "source": [
        "\n",
        "print(f'''{df1[(df1['low_pressure'] < low_outliers_l) | (\n",
        "    df1['low_pressure'] > high_outliers_l)].shape[0]} inconsistent rows on low_pressure.''')\n",
        "print(f'''{df1[(df1['hight_pressure'] < low_outliers_h) | (\n",
        "    df1['hight_pressure'] > high_outliers_h)].shape[0]} inconsistent rows on hight_pressure. ''')\n",
        "\n",
        "# #filtering data without inconsistence data\n",
        "df1 = df1[(df1['low_pressure'] >= 20) & (df1['low_pressure'] <= 150)]\n",
        "df1 = df1[(df1['hight_pressure'] >= 40) & (df1['hight_pressure'] <= 300)]"
      ]
    },
    {
      "cell_type": "markdown",
      "metadata": {
        "id": "EguSDvK-liov"
      },
      "source": [
        "## 5.0 - EDA - Explolatory Data Analysis"
      ]
    },
    {
      "cell_type": "code",
      "execution_count": null,
      "metadata": {
        "id": "enB0-zLqliov"
      },
      "outputs": [],
      "source": [
        "df2=df1.copy()\n"
      ]
    },
    {
      "cell_type": "markdown",
      "metadata": {
        "id": "QPOyVPFWliov"
      },
      "source": [
        "### 5.1 - Univariate Analysis"
      ]
    },
    {
      "cell_type": "code",
      "execution_count": null,
      "metadata": {
        "id": "tifqX4Zlliov"
      },
      "outputs": [],
      "source": [
        "# Distribution from all data\n",
        "df2.hist(bins=50);"
      ]
    },
    {
      "cell_type": "code",
      "execution_count": null,
      "metadata": {
        "id": "nVs_PymkvZOV"
      },
      "outputs": [],
      "source": [
        "# Distribution from all data\n",
        "plt.subplot(2,4,1)\n",
        "plt.title('age')\n",
        "sns.boxplot(df2['age']);\n",
        "\n",
        "plt.subplot(2,4,2)\n",
        "plt.title('height')\n",
        "sns.boxplot(df2['height']);\n",
        "\n",
        "plt.subplot(2,4,3)\n",
        "plt.title('weight')\n",
        "sns.boxplot(df2['weight']);\n",
        "\n",
        "plt.subplot(2,4,4)\n",
        "plt.title('low_pressure')\n",
        "sns.boxplot(df2['low_pressure']);\n",
        "\n",
        "plt.subplot(2,4,5)\n",
        "plt.title('hight_pressure')\n",
        "sns.boxplot(df2['hight_pressure']);\n",
        "\n",
        "plt.subplot(2,4,6)\n",
        "plt.title('bmi')\n",
        "sns.boxplot(df2['bmi']);\n",
        "\n",
        "plt.subplot(2,4,7)\n",
        "plt.title('difference')\n",
        "sns.boxplot(df2['difference']);\n"
      ]
    },
    {
      "cell_type": "code",
      "execution_count": null,
      "metadata": {
        "id": "kMN192NswrHo"
      },
      "outputs": [],
      "source": [
        "df2.columns"
      ]
    },
    {
      "cell_type": "code",
      "execution_count": null,
      "metadata": {
        "id": "j2grxzM7nnci"
      },
      "outputs": [],
      "source": [
        "df2.isna().sum()"
      ]
    },
    {
      "cell_type": "markdown",
      "metadata": {
        "id": "7I4Go99Rliov"
      },
      "source": [
        "### 5.2 - Bivariate Analysis"
      ]
    },
    {
      "cell_type": "markdown",
      "metadata": {
        "id": "dZuLrAXbliov"
      },
      "source": [
        "##### 5.2.1 - How more active, less diseases\n",
        "False"
      ]
    },
    {
      "cell_type": "code",
      "execution_count": null,
      "metadata": {
        "id": "puLYJYv2liov"
      },
      "outputs": [],
      "source": [
        "df2[['cardio','active']].groupby('cardio').value_counts(normalize=True ).reset_index()"
      ]
    },
    {
      "cell_type": "code",
      "execution_count": null,
      "metadata": {
        "id": "W-XYu7QZliov"
      },
      "outputs": [],
      "source": [
        "subplot(1,2,1)\n",
        "sns.countplot(hue='cardio', x='active', data=df2);\n",
        "\n",
        "subplot(1,2,2)\n",
        "sns.heatmap(df2[['cardio','active']].corr(method='pearson'), annot=True);\n"
      ]
    },
    {
      "cell_type": "markdown",
      "metadata": {
        "id": "EhttxJ7jliow"
      },
      "source": [
        "##### 5.2.2 - Cholesterou over level I, more risk\n",
        " True (perarson >0.2)"
      ]
    },
    {
      "cell_type": "code",
      "execution_count": null,
      "metadata": {
        "id": "WdGCtWfeliow"
      },
      "outputs": [],
      "source": [
        "df2[['cardio','cholesterol']].groupby('cardio').value_counts(normalize=True ).reset_index()"
      ]
    },
    {
      "cell_type": "code",
      "execution_count": null,
      "metadata": {
        "id": "fkOogm3fliow"
      },
      "outputs": [],
      "source": [
        "plt.subplot(1,2,1)\n",
        "sns.countplot(hue='cardio', x='cholesterol', data=df2);\n",
        "\n",
        "plt.subplot(1,2,2)\n",
        "sns.heatmap(df2[['cardio','cholesterol']].corr(method='pearson'), annot=True);\n"
      ]
    },
    {
      "cell_type": "markdown",
      "metadata": {
        "id": "d4Kd4sP3liow"
      },
      "source": [
        "##### 5.2.3 - How more clucose, more risk\n",
        "   False"
      ]
    },
    {
      "cell_type": "markdown",
      "metadata": {
        "id": "g49xQcVmliow"
      },
      "source": [
        "The correlation it's so low, insignificat to model"
      ]
    },
    {
      "cell_type": "code",
      "execution_count": null,
      "metadata": {
        "id": "lMv2wXTxliow"
      },
      "outputs": [],
      "source": [
        "plt.subplot(1,2,1)\n",
        "sns.countplot(hue='cardio', x='glucose', data=df2);\n",
        "\n",
        "plt.subplot(1,2,2)\n",
        "sns.heatmap(df2[['cardio','glucose']].corr(method='pearson'), annot=True);"
      ]
    },
    {
      "cell_type": "markdown",
      "metadata": {
        "id": "R64XdJgAliow"
      },
      "source": [
        "##### 5.2.4 - How more older, more risk\n",
        "   True (perarson >0.2)"
      ]
    },
    {
      "cell_type": "markdown",
      "metadata": {
        "id": "xrN7-Hrzliow"
      },
      "source": [
        "following the years it's more count and more avarage pear year old, low correlation, but, probly it's important to model"
      ]
    },
    {
      "cell_type": "code",
      "execution_count": null,
      "metadata": {
        "id": "Wyfz4UuIliow"
      },
      "outputs": [],
      "source": [
        "subplot(2,2,1)\n",
        "plt.title('Counting')\n",
        "sns.countplot(x='age', hue='cardio', data=df2);\n",
        "\n",
        "subplot(2,2,2)\n",
        "plt.title('Average')\n",
        "sns.lineplot(data=df2, x='age', y='cardio', estimator='mean');\n",
        "\n",
        "subplot(2,2,3)\n",
        "plt.title('Distribution')\n",
        "sns.distplot(df2['age']);\n",
        "\n",
        "subplot(2,2,4)\n",
        "plt.title('Correlation Between Cardio vs Age')\n",
        "sns.heatmap(df2[['cardio', 'age']].corr('pearson'), annot=True);"
      ]
    },
    {
      "cell_type": "markdown",
      "metadata": {
        "id": "RlFxsTZLliox"
      },
      "source": [
        "##### 5.2.5 - Over 60 year old with Hypertension, more risk\n",
        "   False"
      ]
    },
    {
      "cell_type": "code",
      "execution_count": null,
      "metadata": {
        "id": "clgJUEhhliox"
      },
      "outputs": [],
      "source": [
        "aux = df2[['age_range', 'cardio']].groupby('age_range').mean().reset_index()\n",
        "aux1 = df2[['cardio', 'age_range', 'hypertension']]\n",
        "\n",
        "plt.subplot(2,2,1)\n",
        "sns.countplot(hue='cardio', x='hypertension', data=aux1);\n",
        "\n",
        "plt.subplot(2,2,2)\n",
        "sns.countplot(x='age', hue='cardio', data=df2);\n",
        "\n",
        "# Average incidence of diseases by hypertension and over 60 year.\n",
        "subplot(2,2,3)\n",
        "aux = df2[['hypertension', 'cardio', 'age_range']].groupby(['hypertension', 'age_range']).mean().reset_index()\n",
        "sns.barplot(x='age_range', y='cardio', hue='hypertension', data=aux);\n",
        "\n",
        "subplot(2,2,4)\n",
        "sns.heatmap(df2[['cardio', 'hypertension', 'age']].corr('pearson'), annot=True);"
      ]
    },
    {
      "cell_type": "markdown",
      "metadata": {
        "id": "_NDnGpOHliox"
      },
      "source": [
        "##### 5.2.6 - 60 year old with Hypotension, more risk\n",
        "   False"
      ]
    },
    {
      "cell_type": "code",
      "execution_count": null,
      "metadata": {
        "id": "3sI_JEWNliox"
      },
      "outputs": [],
      "source": [
        "aux = df2[['hypotension', 'age_range', 'cardio']].groupby(\n",
        "    ['hypotension', 'age_range']).mean().reset_index()\n",
        "\n",
        "plt.subplot(1,2,1)\n",
        "sns.barplot(x='age_range', y='cardio', hue='hypotension', data=aux);\n",
        "\n",
        "\n",
        "plt.subplot(1,2,2)\n",
        "sns.heatmap(df2[['age_range', 'hypotension', 'cardio']].corr('pearson'), annot=True);"
      ]
    },
    {
      "cell_type": "markdown",
      "metadata": {
        "id": "qMAm3wHYliox"
      },
      "source": [
        "##### 5.2.7 - 60 year old, more risk\n",
        "   False"
      ]
    },
    {
      "cell_type": "code",
      "execution_count": null,
      "metadata": {
        "id": "150qDVEcliox"
      },
      "outputs": [],
      "source": [
        "df2[['cardio','age_range']].groupby('cardio').value_counts(normalize=True ).reset_index()"
      ]
    },
    {
      "cell_type": "markdown",
      "metadata": {
        "id": "iaEZxUW9liox"
      },
      "source": [
        "##### 5.2.8 - Divergent AP, more risk\n",
        "   True - Relevant variable"
      ]
    },
    {
      "cell_type": "code",
      "execution_count": null,
      "metadata": {
        "id": "wFkbzW45lioy"
      },
      "outputs": [],
      "source": [
        "aux = df2[['divergent', 'cardio']].groupby('divergent').mean().reset_index()\n",
        "\n",
        "plt.subplot(1,2,1)\n",
        "sns.barplot(x='divergent', y='cardio', data=aux)\n",
        "\n",
        "plt.subplot(1,2,2)\n",
        "sns.heatmap(df2[['cardio', 'divergent']].corr('pearson'), annot=True)"
      ]
    },
    {
      "cell_type": "markdown",
      "metadata": {
        "id": "areDzopblioy"
      },
      "source": [
        "##### 5.2.9 - Convergent AP, more risk\n",
        "   False"
      ]
    },
    {
      "cell_type": "code",
      "execution_count": null,
      "metadata": {
        "id": "XrgPiTHhlioy"
      },
      "outputs": [],
      "source": [
        "plt.subplot(1,2,1)\n",
        "sns.countplot(x='convergent', hue='cardio',\n",
        "    data=df2[['cardio', 'convergent']].groupby('convergent').mean().reset_index());\n",
        "\n",
        "plt.subplot(1,2,2)\n",
        "sns.heatmap(df2[['cardio', 'convergent']].corr('pearson'), annot=True);"
      ]
    },
    {
      "cell_type": "markdown",
      "metadata": {
        "id": "LrfScmtRlioy"
      },
      "source": [
        "##### 5.2.10 - Hypertension, more risk\n",
        "   True"
      ]
    },
    {
      "cell_type": "markdown",
      "metadata": {
        "id": "mqRhRUenlioy"
      },
      "source": [
        "Average incidence by Hypertension"
      ]
    },
    {
      "cell_type": "code",
      "execution_count": null,
      "metadata": {
        "id": "gZd3cdIklioy"
      },
      "outputs": [],
      "source": [
        "aux = df2[['hypertension', 'cardio']].groupby('hypertension').mean().reset_index()\n",
        "\n",
        "plt.subplot(1,3,1)\n",
        "sns.barplot(x='hypertension', y='cardio', data=aux);\n",
        "\n",
        "plt.subplot(1,3,2)\n",
        "sns.countplot(x='hypertension', hue='cardio', data=df2);\n",
        "\n",
        "plt.subplot(1,3,3)\n",
        "sns.heatmap(df2[['hypertension', 'cardio']].corr('pearson'), annot=True);"
      ]
    },
    {
      "cell_type": "code",
      "execution_count": null,
      "metadata": {
        "id": "EiNsn0Hulioy"
      },
      "outputs": [],
      "source": [
        "# Hypertension percentual\n",
        "df2['hypertension'].value_counts()\n"
      ]
    },
    {
      "cell_type": "markdown",
      "metadata": {
        "id": "qau6p4yDlioy"
      },
      "source": [
        "##### 5.2.11 - Hypotension, more risk\n",
        "   False"
      ]
    },
    {
      "cell_type": "raw",
      "metadata": {
        "id": "fTXt2NSPlioy"
      },
      "source": [
        "Irrelevant to model"
      ]
    },
    {
      "cell_type": "code",
      "execution_count": null,
      "metadata": {
        "id": "kpPiU1fDlioz"
      },
      "outputs": [],
      "source": [
        "aux = df2[['hypotension', 'cardio']].groupby('hypotension').mean().reset_index()\n",
        "\n",
        "plt.subplot(1,2,1)\n",
        "sns.barplot(x='hypotension', y='cardio', data=aux);\n",
        "\n",
        "plt.subplot(1,2,2)\n",
        "sns.heatmap(df2[['hypotension', 'cardio']].corr('pearson'), annot=True);"
      ]
    },
    {
      "cell_type": "code",
      "execution_count": null,
      "metadata": {
        "id": "jn3tLnm3lioz"
      },
      "outputs": [],
      "source": [
        "df2['hypotension'].value_counts()"
      ]
    },
    {
      "cell_type": "markdown",
      "metadata": {
        "id": "JAtPMpPLlio1"
      },
      "source": [
        "##### 5.2.12 - BMI - Obesity, more risk\n",
        "   True"
      ]
    },
    {
      "cell_type": "code",
      "execution_count": null,
      "metadata": {
        "id": "_4b5_lc3lio1"
      },
      "outputs": [],
      "source": [
        "aux = df2[['bmi_level', 'cardio']].groupby('bmi_level').value_counts(normalize=True).reset_index()\n",
        "print(aux)\n",
        "aux = df2[['bmi_level', 'cardio']].groupby('bmi_level').mean().reset_index()\n",
        "print(aux)\n",
        "\n",
        "plt.subplot(1,2,1)\n",
        "sns.barplot(x='bmi_level', y='cardio' ,data=aux);\n",
        "\n",
        "plt.subplot(1,2,2)\n",
        "sns.heatmap(df2[['bmi_level', 'cardio']].corr('pearson'), annot=True);\n",
        "\n",
        "# aux1 = df2[(df2['cardio'] ==1)]\n",
        "# aux2 = df2[(df2['cardio'] ==2) ]\n"
      ]
    },
    {
      "cell_type": "markdown",
      "metadata": {
        "id": "Y4Dd1RdSlio1"
      },
      "source": [
        "##### 5.2.13 - Gender 2 has more risk\n",
        "   False"
      ]
    },
    {
      "cell_type": "code",
      "execution_count": null,
      "metadata": {
        "id": "fvObBKzVlio1"
      },
      "outputs": [],
      "source": [
        "aux = df2[['gender', 'cardio']].groupby('gender').value_counts(normalize=True).reset_index()\n",
        "print(aux)\n",
        "aux = df2[['gender', 'cardio']].groupby('gender').mean().reset_index()\n",
        "print(aux)"
      ]
    },
    {
      "cell_type": "code",
      "execution_count": null,
      "metadata": {
        "id": "IJSArZJQlio2"
      },
      "outputs": [],
      "source": [
        "plt.subplot(1,3,1)\n",
        "sns.barplot(x='gender', y='cardio', data=df2)\n",
        "plt.subplot(1,3,2)\n",
        "sns.countplot(x='gender', hue='cardio', data=df2 );\n",
        "plt.subplot(1,3,3)\n",
        "sns.heatmap(df2[['gender', 'cardio']].corr('pearson'), annot=True);\n"
      ]
    },
    {
      "cell_type": "markdown",
      "metadata": {
        "id": "osBzQWOvlio2"
      },
      "source": [
        "##### 5.2.14 - how more weith more risk\n",
        "   True"
      ]
    },
    {
      "cell_type": "code",
      "execution_count": null,
      "metadata": {
        "id": "7ELG0ubOlio2"
      },
      "outputs": [],
      "source": [
        "aux = df2[['weight_range', 'cardio']].groupby('weight_range').value_counts(normalize=True).reset_index()\n",
        "print(aux)\n",
        "aux = df2[['weight_range', 'cardio']].groupby('weight_range').mean().reset_index()\n",
        "print(aux)"
      ]
    },
    {
      "cell_type": "code",
      "execution_count": null,
      "metadata": {
        "id": "XEhOGSnXFPVl"
      },
      "outputs": [],
      "source": [
        "df2.isna().sum()"
      ]
    },
    {
      "cell_type": "code",
      "execution_count": null,
      "metadata": {
        "id": "rvaWUdyvlio2"
      },
      "outputs": [],
      "source": [
        "aux = df2[['weight_range', 'cardio']].groupby('weight_range').mean().reset_index()\n",
        "grid = GridSpec(2,2)\n",
        "\n",
        "plt.subplot(grid[1,0])\n",
        "sns.barplot(x='weight_range', y='cardio', data=aux);\n",
        "                 \n",
        "plt.subplot(grid[1,1])\n",
        "plt.title('Correlation between CARDIO and WEIGHT')\n",
        "pointb = pointbiserialr(df2['weight'], df2['cardio']).correlation\n",
        "sns.heatmap(pd.DataFrame({'weight':pointb}, index=['cardio']), annot=True);"
      ]
    },
    {
      "cell_type": "markdown",
      "metadata": {
        "id": "uhly6EXmlio2"
      },
      "source": [
        "### 5.3 - Multivariate Analysis"
      ]
    },
    {
      "cell_type": "code",
      "execution_count": null,
      "metadata": {
        "id": "aBusxNzo0S52"
      },
      "outputs": [],
      "source": [
        "#pair grid\n",
        "#fig, ax=plt.subplots(figsize=(6,6))\n",
        "vars=['age','weight','height','hight_pressure','low_pressure','bmi']\n",
        "p=pairplot(df2,vars=vars,hue='cardio',kind='reg');"
      ]
    },
    {
      "cell_type": "code",
      "execution_count": null,
      "metadata": {
        "id": "V0ousi7xlio2"
      },
      "outputs": [],
      "source": [
        "sns.heatmap(df2.corr(), annot=True);"
      ]
    },
    {
      "cell_type": "markdown",
      "metadata": {
        "id": "Tfvoi3_nlio2"
      },
      "source": [
        "## 6.0 - Data Preparation"
      ]
    },
    {
      "cell_type": "code",
      "execution_count": null,
      "metadata": {
        "id": "iMph-GMFlio3"
      },
      "outputs": [],
      "source": [
        "df3=df2.copy()"
      ]
    },
    {
      "cell_type": "markdown",
      "metadata": {
        "id": "VdOulPg64zln"
      },
      "source": [
        "\n",
        "### 6.1 - Normalization\n",
        "\n"
      ]
    },
    {
      "cell_type": "code",
      "execution_count": null,
      "metadata": {
        "id": "ON4XSuxg45Q_"
      },
      "outputs": [],
      "source": [
        "# age\n",
        "ss=StandardScaler()\n",
        "df3['age'] = ss.fit_transform(df3[['age']].values)\n",
        "pickle.dump(ss, open(r'C:\\Users\\Utente77\\repos\\cardio_catch_disease_PA001\\parameters\\age_scaling.pkl', 'wb'))"
      ]
    },
    {
      "cell_type": "markdown",
      "metadata": {
        "id": "0Gx3KwmGuxKH"
      },
      "source": [
        "### 6.2 - Rescaling Robust Scaler"
      ]
    },
    {
      "cell_type": "code",
      "execution_count": null,
      "metadata": {
        "id": "5D9LFoADlio3"
      },
      "outputs": [],
      "source": [
        "rs = RobustScaler() #outiliers\n",
        "\n",
        "# height         \n",
        "df3['height'] = rs.fit_transform(df3[['height']].values)\n",
        "pickle.dump(rs, open(r'C:\\Users\\Utente77\\repos\\cardio_catch_disease_PA001\\parameters\\height_scaling.pkl', 'wb'))\n",
        "\n",
        "# weight\n",
        "df3['weight'] = rs.fit_transform(df3[['weight']].values)\n",
        "pickle.dump(rs, open(r'C:\\Users\\Utente77\\repos\\cardio_catch_disease_PA001\\parameters\\weight_scaling.pkl', 'wb'))\n",
        "\n",
        "# difference     \n",
        "df3['difference'] = rs.fit_transform(df3[['difference']].values)\n",
        "pickle.dump(rs, open(r'C:\\Users\\Utente77\\repos\\cardio_catch_disease_PA001\\parameters\\difference_scaling.pkl', 'wb'))\n",
        "\n",
        "# bmi            \n",
        "df3['bmi'] = rs.fit_transform(df3[['bmi']].values)\n",
        "pickle.dump(rs, open(r'C:\\Users\\Utente77\\repos\\cardio_catch_disease_PA001\\parameters\\bmi_scaling.pkl', 'wb'))\n"
      ]
    },
    {
      "cell_type": "markdown",
      "metadata": {
        "id": "eWDm_pPWlio3"
      },
      "source": [
        "### 6.3 - Rescaling MinMaxScaler"
      ]
    },
    {
      "cell_type": "code",
      "execution_count": null,
      "metadata": {
        "id": "5DoqRsXHukzh"
      },
      "outputs": [],
      "source": [
        "mms = MinMaxScaler()\n",
        "# low_pressure   \n",
        "df3['low_pressure'] = mms.fit_transform(df3[['low_pressure']].values)\n",
        "pickle.dump(mms, open(r'C:\\Users\\Utente77\\repos\\cardio_catch_disease_PA001\\parameters\\low_pressure_scaling.pkl', 'wb'))\n",
        "\n",
        "#hight_pressure\n",
        "df3['hight_pressure'] = mms.fit_transform(df3[['hight_pressure']].values)\n",
        "pickle.dump(mms, open(r'C:\\Users\\Utente77\\repos\\cardio_catch_disease_PA001\\parameters\\hight_pressure_scaling.pkl', 'wb'))\n"
      ]
    },
    {
      "cell_type": "markdown",
      "metadata": {
        "id": "SZfTNasplio4"
      },
      "source": [
        "### 6.4 - Encoding"
      ]
    },
    {
      "cell_type": "code",
      "execution_count": null,
      "metadata": {
        "id": "NGYUnOoaC2tH"
      },
      "outputs": [],
      "source": [
        "# Nominal variables\n",
        "\n",
        "# #df3=pd.get_dummies(df3,prefix=['gender'],columns=['gender'])\n",
        "\n",
        "# One hot encoder\n",
        "ohe = OneHotEncoder()\n",
        "X=ohe.fit_transform(df3.gender.values.reshape(-1,1)).toarray()\n",
        "X=pd.DataFrame(X,columns=[0,1]).rename(columns = {0:'gender_1',1:'gender_2'})\n",
        "df3=pd.concat([df3,X],axis=1,join=\"inner\")\n",
        "df3=df3.drop(['gender'],axis=1)\n",
        "pickle.dump(df3, open(r'C:\\Users\\Utente77\\repos\\cardio_catch_disease_PA001\\parameters\\gender_scaling.pkl', 'wb'))\n"
      ]
    },
    {
      "cell_type": "markdown",
      "metadata": {
        "id": "5RsNSW3-lio4"
      },
      "source": [
        "## 7.0 - Feature Selection"
      ]
    },
    {
      "cell_type": "markdown",
      "metadata": {
        "id": "46Mb6tjSUWRW"
      },
      "source": [
        "### 7.1 Spliting after rescaling"
      ]
    },
    {
      "cell_type": "code",
      "execution_count": null,
      "metadata": {
        "id": "ymV9Corhlio4"
      },
      "outputs": [],
      "source": [
        "X = df3.drop(['cardio','id'], axis=1).copy()\n",
        "y = df3['cardio'].copy()\n",
        "x_train, x_valid, y_train, y_valid = train_test_split(X, y, test_size=0.3, random_state=42)"
      ]
    },
    {
      "cell_type": "markdown",
      "metadata": {
        "id": "8GlM5gDQedNA"
      },
      "source": [
        "### 7.1 - PCA"
      ]
    },
    {
      "cell_type": "code",
      "execution_count": null,
      "metadata": {
        "id": "bTfhpGnUk0Y3"
      },
      "outputs": [],
      "source": [
        "X.shape"
      ]
    },
    {
      "cell_type": "code",
      "execution_count": null,
      "metadata": {
        "id": "zZfO_KDcjHCb"
      },
      "outputs": [],
      "source": [
        "pca= PCA(random_state=42)\n",
        "X_pca=pca.fit_transform(StandardScaler().fit_transform(X))\n",
        "pca.explained_variance_ratio_\n",
        "pca.components_[0]"
      ]
    },
    {
      "cell_type": "code",
      "execution_count": null,
      "metadata": {
        "id": "kf6V5VFmkRuf"
      },
      "outputs": [],
      "source": [
        "plt.figure(figsize=(10,5) )\n",
        "plt.plot( np.cumsum( pca.explained_variance_ratio_ ) )\n",
        "plt.axvline( 20, color='red', linestyle='--')\n",
        "plt.axhline( 0.95, color='red', linestyle='--');"
      ]
    },
    {
      "cell_type": "code",
      "execution_count": null,
      "metadata": {
        "id": "2fRZxQ4LlYJA"
      },
      "outputs": [],
      "source": [
        "# change data to new space\n",
        "k = np.argmax( np.cumsum( pca.explained_variance_ratio_ ) > 0.95 )\n",
        "k"
      ]
    },
    {
      "cell_type": "markdown",
      "metadata": {
        "id": "YiR1MhKFXj6s"
      },
      "source": [
        "### 7.2 - RFE"
      ]
    },
    {
      "cell_type": "code",
      "execution_count": null,
      "metadata": {
        "id": "JXh_-vT9SlMN"
      },
      "outputs": [],
      "source": [
        "# Create linear regression object\n",
        "mdl = ExtraTreesClassifier(n_estimators=100)\n",
        "\n",
        "# Create RFE object \n",
        "rfe = RFE(mdl, n_features_to_select=k)\n",
        "\n",
        "# Fit RFE\n",
        "rfe.fit(X, y)\n",
        "\n",
        "# Print selected features\n",
        "select_features_rfe=list(X.columns[rfe.support_])\n",
        "select_features_rfe"
      ]
    },
    {
      "cell_type": "markdown",
      "metadata": {
        "id": "jz9PoQebYD3J"
      },
      "source": [
        "### 7.3 - Decision Tree"
      ]
    },
    {
      "cell_type": "code",
      "execution_count": null,
      "metadata": {
        "id": "efcd3kAEX_b2"
      },
      "outputs": [],
      "source": [
        "# Create ExtraTreesClassifier object\n",
        "clf = ExtraTreesClassifier(n_estimators=100)\n",
        "\n",
        "# Fit ExtraTreesClassifier\n",
        "clf.fit(X, y)\n",
        "\n",
        "# Print feature importances\n",
        "print(\"Feature importances: {}\".format(clf.feature_importances_))\n",
        "\n",
        "# Select top 2 features\n",
        "top_indices = clf.feature_importances_.argsort()[::-1][:9]\n",
        "top_features = X.columns[top_indices]\n",
        "#print(\"Selected features: {}\".format(top_features))\n",
        "select_features_dt=list(top_features)\n",
        "select_features_dt"
      ]
    },
    {
      "cell_type": "markdown",
      "metadata": {
        "id": "hF8oPeaXlio4"
      },
      "source": [
        "### 7.4 - Boruta"
      ]
    },
    {
      "cell_type": "code",
      "execution_count": null,
      "metadata": {
        "id": "SmU_QUWxlio4"
      },
      "outputs": [],
      "source": [
        "#!pip install boruta\n",
        "from boruta import BorutaPy\n",
        "\n",
        "x_boruta = x_train.values\n",
        "y_boruta = y_train.ravel()\n",
        "clf = ExtraTreesClassifier(n_estimators=100)\n",
        "\n",
        "# Defining Boruta\n",
        "boruta = BorutaPy(clf, n_estimators='auto', verbose=0, random_state=42).fit(x_boruta, y_boruta)\n",
        "\n",
        "cols_selected = boruta.support_.tolist()\n",
        "cols_selected_boruta = x_train.iloc[:, cols_selected].columns.to_list()\n",
        "cols_selected_boruta"
      ]
    },
    {
      "cell_type": "markdown",
      "metadata": {
        "id": "touJPRQnkvzc"
      },
      "source": [
        "### 7.5 Features selected"
      ]
    },
    {
      "cell_type": "code",
      "execution_count": null,
      "metadata": {
        "id": "lurBUTUe4K0_"
      },
      "outputs": [],
      "source": [
        "x_train = x_train[select_features_rfe].copy()\n",
        "x_valid=x_valid[select_features_rfe].copy()"
      ]
    },
    {
      "cell_type": "markdown",
      "metadata": {
        "id": "3yyKGTZhlio5"
      },
      "source": [
        "## 8.0 - Modeling"
      ]
    },
    {
      "cell_type": "markdown",
      "metadata": {
        "id": "UxsQkpkglio5"
      },
      "source": [
        "### 8.1 - Baseline"
      ]
    },
    {
      "cell_type": "markdown",
      "metadata": {
        "id": "Kxf2CoMTlio5"
      },
      "source": [
        "*The* baseline is the \"status quo\", between **55%** and **65%** of **PRECISION** Score"
      ]
    },
    {
      "cell_type": "markdown",
      "metadata": {
        "id": "niEUGd1Alio5"
      },
      "source": [
        "### 8.2 - Random Forest"
      ]
    },
    {
      "cell_type": "code",
      "execution_count": null,
      "metadata": {
        "id": "5wMhfqbOlio5"
      },
      "outputs": [],
      "source": [
        "mdl = RandomForestClassifier(n_estimators=150, verbose=1,random_state=42).fit(x_train, y_train)\n",
        "mdl_name = 'RandomForestClassifier'\n",
        "y_hat = mdl.predict(x_valid)\n",
        "\n",
        "cv = RepeatedStratifiedKFold(n_splits=10, n_repeats=3, random_state=1)\n",
        "n_scores = cross_val_score(mdl, x_train, y_train, scoring='precision', cv=cv, n_jobs=-1)\n",
        "\n",
        "df3_score_rf = metrics_score(y_valid, y_hat, mdl_name)\n",
        "df3_score_rf['precision_cv'] = mean(n_scores)\n",
        "df3_score_rf['precision_cv_std'] = std(n_scores)\n",
        "df3_score_rf"
      ]
    },
    {
      "cell_type": "code",
      "execution_count": null,
      "metadata": {
        "id": "c_mWfVXNPLLo"
      },
      "outputs": [],
      "source": [
        "cm = confusion_matrix(y_valid, y_hat)\n",
        "ConfusionMatrixDisplay(cm).plot();"
      ]
    },
    {
      "cell_type": "code",
      "execution_count": null,
      "metadata": {
        "id": "PyZxczuEY0cU"
      },
      "outputs": [],
      "source": [
        "# from sklearn.metrics import roc_curve\n",
        "# from sklearn.metrics import RocCurveDisplay\n",
        "\n",
        "# y_score = clf.decision_function(X_test)\n",
        "\n",
        "# fpr, tpr, _ = roc_curve(y_valid, y_hat)\n",
        "# roc_display = RocCurveDisplay(fpr=fpr, tpr=tpr).plot()"
      ]
    },
    {
      "cell_type": "markdown",
      "metadata": {
        "id": "KmmHbeJKlio5"
      },
      "source": [
        "### 8.3 - GBDT"
      ]
    },
    {
      "cell_type": "code",
      "execution_count": null,
      "metadata": {
        "id": "l0NxtCZIlio6"
      },
      "outputs": [],
      "source": [
        "mdl = GradientBoostingClassifier().fit(x_train, y_train)\n",
        "mdl_name ='GradientBoostingClassifier'\n",
        "y_hat = mdl.predict(x_valid)\n",
        "\n",
        "cv = RepeatedStratifiedKFold(n_splits=10, n_repeats=3, random_state=1)\n",
        "n_scores = cross_val_score(mdl, x_train, y_train, scoring='precision', cv=cv, n_jobs=-1)\n",
        "\n",
        "df3_score_gbdt = metrics_score(y_valid, y_hat, mdl_name)\n",
        "df3_score_gbdt['precision_cv'] = mean(n_scores)\n",
        "df3_score_gbdt['precision_cv_std'] = std(n_scores)\n",
        "df3_score_gbdt"
      ]
    },
    {
      "cell_type": "code",
      "execution_count": null,
      "metadata": {
        "id": "1QzOj3TlTwkV"
      },
      "outputs": [],
      "source": [
        "cm = confusion_matrix(y_valid, y_hat)\n",
        "ConfusionMatrixDisplay(cm).plot();"
      ]
    },
    {
      "cell_type": "markdown",
      "metadata": {
        "id": "inbf5ncblio6"
      },
      "source": [
        "### 8.4 - Logistic Regression"
      ]
    },
    {
      "cell_type": "code",
      "execution_count": null,
      "metadata": {
        "id": "ocf6y6Ojlio6"
      },
      "outputs": [],
      "source": [
        "mdl = LogisticRegression(random_state=42).fit(x_train, y_train)\n",
        "mdl_name = 'LogisticRegression'\n",
        "y_hat = mdl.predict(x_valid)\n",
        "\n",
        "cv = RepeatedStratifiedKFold(n_splits=10, n_repeats=3, random_state=1)\n",
        "n_scores = cross_val_score(mdl, x_train, y_train, scoring='precision', cv=cv, n_jobs=-1)\n",
        "\n",
        "df3_score_lr = metrics_score(y_valid, y_hat, mdl_name)\n",
        "df3_score_lr['precision_cv'] = mean(n_scores)\n",
        "df3_score_lr['precision_cv_std'] = std(n_scores)\n",
        "df3_score_lr"
      ]
    },
    {
      "cell_type": "code",
      "execution_count": null,
      "metadata": {
        "id": "TSHjHGRYUAc2"
      },
      "outputs": [],
      "source": [
        "cm = confusion_matrix(y_valid, y_hat)\n",
        "ConfusionMatrixDisplay(cm).plot();"
      ]
    },
    {
      "cell_type": "markdown",
      "metadata": {
        "id": "pokdwoizlio6"
      },
      "source": [
        "### 8.5 - XGBClassifier"
      ]
    },
    {
      "cell_type": "code",
      "execution_count": null,
      "metadata": {
        "id": "S1JMrKoplio6"
      },
      "outputs": [],
      "source": [
        "mdl = XGBClassifier().fit(x_train, y_train)\n",
        "mdl_name = 'XGBClassifier'\n",
        "\n",
        "y_hat = mdl.predict(x_valid)\n",
        "\n",
        "cv = RepeatedStratifiedKFold(n_splits=10, n_repeats=3, random_state=1)\n",
        "n_scores = cross_val_score(mdl, x_train, y_train, scoring='precision', cv=cv, n_jobs=-1)\n",
        "\n",
        "df3_score_xgbc = metrics_score(y_valid, y_hat, mdl_name)\n",
        "df3_score_xgbc['precision_cv'] = mean(n_scores)\n",
        "df3_score_xgbc['precision_cv_std'] = std(n_scores)\n",
        "df3_score_xgbc"
      ]
    },
    {
      "cell_type": "code",
      "execution_count": null,
      "metadata": {
        "id": "qYjKKdfPUCIG"
      },
      "outputs": [],
      "source": [
        "cm = confusion_matrix(y_valid, y_hat)\n",
        "ConfusionMatrixDisplay(cm).plot();"
      ]
    },
    {
      "cell_type": "markdown",
      "metadata": {
        "id": "S5C5-wXRlio6"
      },
      "source": [
        "### 8.6 - KNClassifier"
      ]
    },
    {
      "cell_type": "code",
      "execution_count": null,
      "metadata": {
        "id": "3lporNzwlio6"
      },
      "outputs": [],
      "source": [
        "mdl = KNeighborsClassifier().fit(x_train, y_train)\n",
        "mdl_name = 'KNeighborsClassifier'\n",
        "yhat = mdl.predict(x_valid)\n",
        "\n",
        "cv = RepeatedStratifiedKFold(n_splits=10, n_repeats=3, random_state=1)\n",
        "n_scores = cross_val_score(mdl, x_train, y_train, scoring='precision', cv=cv, n_jobs=-1)\n",
        "\n",
        "df3_score_knc = metrics_score(y_valid, y_hat, mdl_name)\n",
        "df3_score_knc['precision_cv'] = mean(n_scores)\n",
        "df3_score_knc['precision_cv_std'] = std(n_scores)\n",
        "df3_score_knc"
      ]
    },
    {
      "cell_type": "code",
      "execution_count": null,
      "metadata": {
        "id": "Hz05bTi9UDR2"
      },
      "outputs": [],
      "source": [
        "cm = confusion_matrix(y_valid, y_hat)\n",
        "ConfusionMatrixDisplay(cm).plot();"
      ]
    },
    {
      "cell_type": "markdown",
      "metadata": {
        "id": "LLutqWSQlio7"
      },
      "source": [
        "### 8.7 - LGBMClassifier"
      ]
    },
    {
      "cell_type": "code",
      "execution_count": null,
      "metadata": {
        "id": "Diud4a1elio7"
      },
      "outputs": [],
      "source": [
        "mdl = LGBMClassifier().fit(x_train, y_train)\n",
        "mdl_name = 'LGBMClassifier'\n",
        "y_hat = mdl.predict(x_valid)\n",
        "\n",
        "cv = RepeatedStratifiedKFold(n_splits=10, n_repeats=3, random_state=1)\n",
        "n_scores = cross_val_score(mdl, x_train, y_train, scoring='precision', cv=cv, n_jobs=-1)\n",
        "\n",
        "df3_score_lgbmc = metrics_score(y_valid, y_hat, mdl_name)\n",
        "df3_score_lgbmc['precision_cv'] = mean(n_scores)\n",
        "df3_score_lgbmc['precision_cv_std'] = std(n_scores)\n",
        "df3_score_lgbmc"
      ]
    },
    {
      "cell_type": "code",
      "execution_count": null,
      "metadata": {
        "id": "icWSO0imUEN0"
      },
      "outputs": [],
      "source": [
        "cm = confusion_matrix(y_valid, y_hat)\n",
        "ConfusionMatrixDisplay(cm).plot();"
      ]
    },
    {
      "cell_type": "markdown",
      "metadata": {
        "id": "5kBwRiIJlio7"
      },
      "source": [
        "## 9.0 - Metrics"
      ]
    },
    {
      "cell_type": "markdown",
      "metadata": {
        "id": "mmibhaZulio7"
      },
      "source": [
        "### 9.1 - Validation"
      ]
    },
    {
      "cell_type": "code",
      "execution_count": null,
      "metadata": {
        "id": "gXmjLiA6lio7"
      },
      "outputs": [],
      "source": [
        "df3_all_scores_sbs = pd.concat([df3_score_rf, df3_score_gbdt, df3_score_lr, df3_score_xgbc, df3_score_knc, df3_score_lgbmc], axis=0).reset_index(drop=True)\n",
        "df3_all_scores_sbs.style.highlight_max(subset = [\"accuracy\",'precision','recall','F1_score','precision_cv','precision_cv_std'])"
      ]
    },
    {
      "cell_type": "markdown",
      "metadata": {
        "id": "xhmwbfeXlio7"
      },
      "source": [
        "## 10.0 - Hyperparameters (HyperOpt)"
      ]
    },
    {
      "cell_type": "markdown",
      "metadata": {
        "id": "e7j2-dKBlio8"
      },
      "source": [
        "**Gradient Boosting it's better**"
      ]
    },
    {
      "cell_type": "code",
      "execution_count": null,
      "metadata": {
        "id": "7Kd0JlC9lio7"
      },
      "outputs": [],
      "source": [
        "parameters = {'learning_rate':[0.01, 0.08], \n",
        "    'n_estimators':[100, 150],\n",
        "    'subsample':[0.08, 0.1, 0.2, 0.6, 0.7, 0.8, 0.9, 1.0], \n",
        "    'min_samples_split':[0.3, 0.6, 0.8, 2, 3, 4],\n",
        "    'min_samples_leaf':[1, 2, 3, 4], \n",
        "    'max_depth':[3, 5, 10, 15, 20, 25]}"
      ]
    },
    {
      "cell_type": "code",
      "execution_count": null,
      "metadata": {
        "id": "0JNpubZPlio7"
      },
      "outputs": [],
      "source": [
        "#RepeatedStratifiedKFold\n",
        "MAX_EVALS = 20\n",
        "df3_hyper = pd.DataFrame(columns=['Mean_precision', 'Std_precision', 'Parameters'])\n",
        "\n",
        "for i in range(MAX_EVALS):\n",
        "    print(f'evals: {i}')\n",
        "    \n",
        "    hp = {k:sp(v, 1)[0] for k, v in parameters.items()}\n",
        "    print(f'Hyperparameters: {hp}')\n",
        "    mdl = GradientBoostingClassifier(\n",
        "        learning_rate=hp['learning_rate'], n_estimators=hp['n_estimators'],\n",
        "        subsample=hp['subsample'], min_samples_split=hp['min_samples_split'],\n",
        "        min_samples_leaf=hp['min_samples_leaf'], max_depth=hp['max_depth'],\n",
        "        loss='deviance', random_state=42\n",
        "        ).fit(x_train, y_train)\n",
        "    print('trained...')\n",
        "    \n",
        "    cv = RepeatedStratifiedKFold(n_splits=5, n_repeats=3, random_state=1)\n",
        "    n_scores = cross_val_score(mdl, x_train, y_train, scoring='precision', cv=cv, n_jobs=-1)\n",
        "    print('crossvalidation finished')\n",
        "    \n",
        "    df3_cv = pd.DataFrame([[mean(n_scores), std(n_scores), hp]], \n",
        "                        columns=['Mean_precision', 'Std_precision', 'Parameters'])\n",
        "    \n",
        "    print(df3_cv)\n",
        "    df3_hyper = pd.concat([df3_hyper, df3_cv], axis=0)\n",
        "    \n",
        "df3_hyper"
      ]
    },
    {
      "cell_type": "markdown",
      "metadata": {
        "id": "3ZG0Kokalio7"
      },
      "source": [
        "## 11.0 - Final Model"
      ]
    },
    {
      "cell_type": "code",
      "execution_count": null,
      "metadata": {
        "id": "m4pEORKuWJzA"
      },
      "outputs": [],
      "source": [
        "learning_rate= 0.01\n",
        "n_estimators= 150\n",
        "subsample= 0.9\n",
        "min_samples_split= 4\n",
        "min_samples_leaf= 1\n",
        "max_depth=5\n"
      ]
    },
    {
      "cell_type": "code",
      "execution_count": null,
      "metadata": {
        "id": "X89tEq3Nlio7"
      },
      "outputs": [],
      "source": [
        "final_model = GradientBoostingClassifier(\n",
        "        learning_rate=learning_rate, n_estimators=n_estimators,\n",
        "        subsample=subsample, min_samples_split=min_samples_split,\n",
        "        min_samples_leaf=min_samples_leaf,max_depth=max_depth,\n",
        "        loss='deviance', random_state=42\n",
        "        ).fit(x_train, y_train)\n",
        "\n",
        "\n",
        "pickle.dump(final_model, open(r'C:\\Users\\Utente77\\repos\\cardio_catch_disease_PA001\\model\\model_trained.pkl', 'wb'))"
      ]
    },
    {
      "cell_type": "markdown",
      "metadata": {
        "id": "wEFiJRe5lio-"
      },
      "source": [
        "## 12.0 - Business Performance"
      ]
    },
    {
      "cell_type": "markdown",
      "metadata": {
        "id": "PQlukpxTvfdy"
      },
      "source": [
        "|                                            | Avg Precision             | \n",
        "|--------------------------------------------|---------------------------|\n",
        "| Gradient Boosting Classifier (Tuned HP)               | 0.756197 (+/- 0.005722) | \n",
        "\n"
      ]
    },
    {
      "cell_type": "code",
      "execution_count": null,
      "metadata": {
        "id": "TPOLuefglio-"
      },
      "outputs": [],
      "source": [
        "cost_status_quo = 1000                         ## cost of each diagnostic with operators and machines\n",
        "percentual_status_quo = (0.55+0.65)/2\n",
        "print(percentual_status_quo)\n",
        "revenue_status_quo = int((percentual_status_quo - 0.50)/0.05) * 500\n",
        "print(revenue_status_quo)\n",
        "\n",
        "result_status_quo = revenue_status_quo - cost_status_quo\n",
        "\n",
        "cost_future = 0\n",
        "standard = 0.005722\n",
        "percent_max=0.756197+0.005722\n",
        "print(percent_max)\n",
        "percent_min=0.756197-0.005722\n",
        "print(percent_min)\n",
        "percentual_future = (percent_min+percent_max)/2\n",
        "revenue_future = int((percentual_future - 0.50)/0.05) * 500  \n",
        "result_model_future = (revenue_future - cost_future)*70000   \n",
        "final=result_model_future-result_status_quo"
      ]
    },
    {
      "cell_type": "code",
      "execution_count": null,
      "metadata": {
        "id": "IBrfI6-uges2"
      },
      "outputs": [],
      "source": [
        "print(result_status_quo)\n",
        "print(result_model_future)\n",
        "print(final)"
      ]
    },
    {
      "cell_type": "code",
      "execution_count": null,
      "metadata": {
        "id": "vzVjhra2lio-"
      },
      "outputs": [],
      "source": [
        "bp=pd.DataFrame(pd.concat([pd.Series(result_status_quo), pd.Series(result_model_future)])).T\n",
        "bp.columns=['status_quo','result_model']\n",
        "bp"
      ]
    },
    {
      "cell_type": "markdown",
      "metadata": {
        "id": "O0XSJ9Fxvfdz"
      },
      "source": [
        "Let's recap the pricing model. The price of the diagnosis, paid by the client, varies according to the precision achieved by the team of specialists.\n",
        "\n",
        "| Exam Accuracy | Price          | Rules                                    | Example                         |\n",
        "|:--------------|:---------------|:-----------------------------------------|:--------------------------------|\n",
        "| Above 50%     | min \\$500\\.00  | \\+\\$500 for each additional 5% precision | Precision = 55% \\-> \\$1,000\\.00 |\n",
        "| Up to 50%     | $0\\.00         | N/A                                      | N/A                             |\n",
        "\n",
        "\n",
        "Our full original data set contains the records of 70,000 patients. Suppose we were to make them go through the clinic procedure to check if they have a cardiovascular disease, our model have reached a **precision** that ranges **from 0.75% to 0.76%**, which is higher than the 55% to 65% that we have on today's procedures. Thus, translating it to business numbers.\n",
        "\n",
        "|                        | Average             | \n",
        "|:-----------------------|------------------:|\n",
        "| Our model (TO BE)      | \\$175,000,000  | \n",
        "| Today (AS IS)          | \\$105,000,000  | \n",
        "\n",
        "\n",
        "This means that having a portfolio of 70k patients that would go through the clinical procedure to check whether they have or not a cardiovascular disease, in the **worst business scenario** the portfolio would generate a profit of **\\\\$171.7 million** and in the **best scenario \\$186.2 million**, in contrast to today's procedure that at its best has an accuracy of 65% and would generate a total of \\\\$105 million, that's **a difference of \\\\$70.0 million (an increase of 77.3%)!**"
      ]
    },
    {
      "cell_type": "markdown",
      "metadata": {
        "id": "Lhk0ipmVlio-"
      },
      "source": [
        "## 13.0 - Deploy"
      ]
    },
    {
      "cell_type": "markdown",
      "metadata": {
        "id": "rUSEyjDOvfdz"
      },
      "source": []
    },
    {
      "cell_type": "markdown",
      "metadata": {
        "id": "QvG_lFHNlio-"
      },
      "source": [
        "### 13.1 - Class"
      ]
    },
    {
      "cell_type": "code",
      "execution_count": null,
      "metadata": {
        "id": "nrTKhrwjlio-"
      },
      "outputs": [],
      "source": [
        "import pandas as pd\n",
        "import numpy as np\n",
        "import json\n",
        "import pickle\n",
        "\n",
        "# this file will be a handler \"API\"\n",
        "class Cardio_Catch_Diseases(object):\n",
        "    def __init__(self):\n",
        "        self.home_path              = '/home/python/Documents/Projects/pa001_cardio_catch_diseases/'\n",
        "        self.age_scaling            = pickle.load(open(self.home_path + 'parameters/age_scaling.pkl', 'rb'))\n",
        "        self.bmi_scaling            = pickle.load(open(self.home_path + 'parameters/bmi_scaling.pkl', 'rb'))\n",
        "        self.difference_scaling     = pickle.load(open(self.home_path + 'parameters/difference_scaling.pkl', 'rb'))\n",
        "        self.height_scaling         = pickle.load(open(self.home_path + 'parameters/height_scaling.pkl', 'rb'))\n",
        "        self.hight_pressure_scaling = pickle.load(open(self.home_path + 'parameters/hight_pressure_scaling.pkl', 'rb'))\n",
        "        self.low_pressure_scaling   = pickle.load(open(self.home_path + 'parameters/low_pressure_scaling.pkl', 'rb'))\n",
        "        self.weight_scaling         = pickle.load(open(self.home_path + 'parameters/weight_scaling.pkl', 'rb'))\n",
        "        self.gender_encoder         = pickle.load(open(self.home_path + 'parameters/gender_scaling.pkl', 'rb'))\n",
        "\n",
        "\n",
        "    \n",
        "    def data_cleaning(self, df3):\n",
        "        '''df3: is the input data from user on website'''\n",
        "\n",
        "\n",
        "        # height - change centimeters to meters\n",
        "        df3['height'] = (df3['height'] / 100)\n",
        "\n",
        "        return df3\n",
        "\n",
        "    def feature_engineering(self, df3):\n",
        "        '''Get the dataframe from data cleaning and create a new features'''\n",
        "\n",
        "\n",
        "        # feature engineering\n",
        "        df3['difference'] = df3['hight_pressure'] - df3['low_pressure']\n",
        "        df3['convergent'] = df3['difference'].apply(lambda x: 1 if x <= 30 else 0)\n",
        "        df3['divergent'] = df3['difference'].apply(lambda x: 1 if x >= 60 else 0)\n",
        "        df3['bmi'] = (df3['weight']/(df3['height'] * df3['height']))\n",
        "        df3['bmi_level'] = df3['bmi'].apply(lambda x: \n",
        "                                                      'underweight' if x <= 18.5 else\n",
        "                                                      'normal'      if x >  18.5 and x <= 24.9 else\n",
        "                                                      'overweight'  if x >= 25.0 and x <= 29.9 else\n",
        "                                                      'obesity')\n",
        "        df3['hypertension'] = df3.apply(lambda x: 1 if x[4] >=140 and x[5] >= 90 else 0, axis=1)\n",
        "        df3['hypotension'] = df3.apply(lambda x: 1 if x[4] <=90 and x[5] <= 60 else 0, axis=1)\n",
        "        df3['age_range'] = df3['age'].apply(lambda x: 'age_0_50'    if x <= 50 \n",
        "                                                           else 'age_51_59'   if x >= 51 and x <= 59 \n",
        "                                                           else 'age_60_over' if x >= 60 \n",
        "                                                           else x)\n",
        "\n",
        "        df3['weight_range'] = df3['weight'].apply(\n",
        "            lambda x:   0.50 if x <= 50  else\n",
        "                        0.75 if x >= 51  and x <= 75 else\n",
        "                        1.00 if x >= 76  and x <= 100 else\n",
        "                        1.25 if x >= 101 and x <= 125 else\n",
        "                        1.50 if x >= 126 and x <= 150 else\n",
        "                        1.75 if x >= 151 and x <= 175 else 2.00)\n",
        "\n",
        "        # Data Filtering rows, values or columns\n",
        "        df3 = df3.drop('id', axis=1)\n",
        "\n",
        "        return df3\n",
        "\n",
        "\n",
        "    def data_rescaling(self, df3):\n",
        "        '''\n",
        "        Rescaling data\n",
        "        Return: json file with x_test data to input the prediction\n",
        "        '''\n",
        "\n",
        "\n",
        "        # Transforming data to will be in correct data scaler to input at model\n",
        "        df3['age']            = self.age_scaling.transform(df3[['age']].values)\n",
        "        df3['height']         = self.height_scaling.transform(df3[['height']].values)\n",
        "        df3['weight']         = self.weight_scaling.transform(df3[['weight']].values)\n",
        "        df3['low_pressure']   = self.low_pressure_scaling.transform(df3[['low_pressure']].values)\n",
        "        df3['hight_pressure'] = self.hight_pressure_scaling.transform(df3[['hight_pressure']].values)\n",
        "        df3['difference']     = self.difference_scaling.transform(df3[['difference']].values)\n",
        "        df3['bmi']            = self.bmi_scaling.transform(df3[['bmi']].values)\n",
        "        df3['gender']         = self.gender_scaling.transform(df3[['gender']].values)\n",
        "        df3['age_range']      = df3['age_range'].map(\n",
        "            {'age_0_50':1, 'age_51_59':1, 'age_60_over':3})\n",
        "        df3['bmi_level']      = df3['bmi_level'].map(\n",
        "            {'underweight':1, 'normal':2, 'overweight':3, 'obesity':4})\n",
        "\n",
        "        # Deleting target\n",
        "        x_test = df3.drop('cardio', axis=1).copy()\n",
        "        #data_json = json.dumps(x_test.to_dict(orient='records')) # converto to json\n",
        "\n",
        "        return x_test"
      ]
    },
    {
      "cell_type": "markdown",
      "metadata": {
        "id": "oK5celzflio_"
      },
      "source": [
        "### 13.2 - Input Simulation"
      ]
    },
    {
      "cell_type": "code",
      "execution_count": null,
      "metadata": {
        "id": "R3sCKxRAlio_"
      },
      "outputs": [],
      "source": [
        "import pandas as pd\n",
        "\n",
        "def input_simulation():\n",
        "    # inputs from user\n",
        "    \n",
        "    age = input('age: ')\n",
        "    gender = int(input('gender: '))\n",
        "    height = int(input('height: '))\n",
        "    weight = float(input('weight: '))\n",
        "    ap_hi = int(input('hight_pressure: '))\n",
        "    ap_lo = int(input('low_pressure: '))\n",
        "    cholesterol = int(input('cholesterol (1,2 or 3): '))\n",
        "    gluc = int(input('glucose (1,2 or 3): '))\n",
        "    smoke = int(input('smoker: '))\n",
        "    alco = int(input('alcohol: '))\n",
        "    active = input('active: ')\n",
        "\n",
        "    # replacing columns names\n",
        "    new_col = ['id', 'age', 'gender', 'height', 'weight', 'hight_pressure', 'low_pressure',\n",
        "               'cholesterol', 'glucose', 'smoker', 'alcohol', 'active', 'cardio']\n",
        "\n",
        "    # getting data and converting to dataframe\n",
        "    df3_inputed = [[1, age, gender, height, weight, ap_hi, ap_lo, cholesterol, gluc, smoke, alco, active, 0,]]\n",
        "    df3 = pd.DataFrame(df3_inputed, columns=new_col)\n",
        "\n",
        "    # datatypes transformations\n",
        "    df3['age'] = df3['age'].astype('int64')\n",
        "    df3['gender'] = df3['gender'].astype('int64')\n",
        "    df3['height'] = df3['height'].astype('int64')\n",
        "    df3['weight'] = df3['weight'].astype('float64')\n",
        "    df3['hight_pressure'] = df3['hight_pressure'].astype('int64') \n",
        "    df3['low_pressure'] = df3['low_pressure'].astype('int64') \n",
        "    df3['cholesterol'] = df3['cholesterol'].astype('int64')\n",
        "    df3['glucose'] = df3['glucose'].astype('int64')\n",
        "    df3['smoker'] = df3['smoker'].astype('int64') \n",
        "    df3['alcohol'] = df3['alcohol'].astype('int64')\n",
        "    df3['active'] = df3['active'].astype('int64')\n",
        "    df3['cardio'] = df3['cardio'].astype('int64')\n",
        "\n",
        "    return json.dumps(df3.to_dict(orient='records'))"
      ]
    },
    {
      "cell_type": "markdown",
      "metadata": {
        "id": "k60hZXS9lio_"
      },
      "source": [
        "### 13.3 - API / Handler"
      ]
    },
    {
      "cell_type": "code",
      "execution_count": null,
      "metadata": {
        "id": "u_ciQsJXlio_"
      },
      "outputs": [],
      "source": [
        "import pickle\n",
        "import pandas as pd\n",
        "import numpy as np\n",
        "from flask import Flask, request, Response\n",
        "from ccd.ccd import Cardio_Catch_Diseases\n",
        "import json\n",
        "\n",
        "# loading model trained from pickle file\n",
        "with open('/home/python/Documents/Projects/pa001_cardio_catch_diseases/model/model_trained.pkl', 'rb') as file:\n",
        "    model = pickle.load(file)\n",
        "\n",
        "# initialized API\n",
        "app = Flask(__name__)\n",
        "\n",
        "@app.route('/ccd/predict', methods=['POST'])\n",
        "def ccd_predict():\n",
        "    '''\n",
        "    ccd: Cardio Catch Diseases\n",
        "    This function it will be create the API request, where the user will be input the user data that \n",
        "    will used to data_cleaning(), data_engineering(), data_scaler() \n",
        "    this functions will be return the dataframe 'x_est', that will be used to predict\n",
        "    Return: Prediction \"array\"\n",
        "    '''\n",
        "    \n",
        "    test_json = request.get_json()\n",
        "        \n",
        "    if test_json:\n",
        "        if isinstance(test_json, dict): # Unique Example\n",
        "            test_raw = pd.DataFrame(test_json, index=[0])\n",
        "        else: # multiple Example\n",
        "            test_raw = pd.DataFrame(test_json, columns=test_json[0].keys())\n",
        "\n",
        "        # Instantiate CCD class\n",
        "        pipeline = Cardio_Catch_Diseases()\n",
        "        # cleaning data\n",
        "        test_raw_cleaned = pipeline.data_cleaning(test_raw)\n",
        "        # creating derivates to new features\n",
        "        test_raw_features = pipeline.feature_engineering(test_raw_cleaned)        \n",
        "        \n",
        "        # preparing data to model\n",
        "        test_raw_selected = pipeline.data_rescaling(test_raw_features)\n",
        "        \n",
        "        y_hat = model.predict(test_raw_selected)\n",
        "        test_raw['prediction'] = y_hat.copy()\n",
        "        return test_raw.to_json(orient='records')\n",
        "    \n",
        "    else:\n",
        "        return Response( \"{}\", status=200, mimetype='application/json')\n",
        "\n",
        "    \n",
        "if __name__=='__main__':\n",
        "    app.run('0.0.0.0')"
      ]
    },
    {
      "cell_type": "markdown",
      "metadata": {
        "id": "WSd66IA7lio_"
      },
      "source": [
        "### 13.4 - API Request Tester"
      ]
    },
    {
      "cell_type": "code",
      "execution_count": null,
      "metadata": {
        "id": "JMeOEHu2lio_",
        "scrolled": true
      },
      "outputs": [],
      "source": [
        "import requests\n",
        "\n",
        "# Input data user\n",
        "data = input_simulation()\n",
        "\n",
        "# API request\n",
        "url = \"https://ccd-model.herokuapp.com/ccd/predict\"\n",
        "header = {'Content-type': 'application/json'}\n",
        "\n",
        "response_ccd = requests.post(url, data=data, headers=header)\n",
        "print(f'Status Code: {response_ccd.status_code}')\n",
        "\n",
        "df3_response = pd.DataFrame(response_ccd.json(), columns=response_ccd.json()[0].keys())\n",
        "\n",
        "# Loading json to Dataframe\n",
        "df3_new = pd.DataFrame(json.loads(data))\n",
        "\n",
        "# converting to back the original datatype\n",
        "df3_new['age'] = df3_new['age'] * 365\n",
        "\n",
        "# getting prediction\n",
        "df3_new['cardio'] = df3_response['cardio'].copy()\n",
        "\n",
        "# getting current time in seconds since the Epoch.\n",
        "# convert to normal date use time.ctime(time.time())\n",
        "df3_new['id'] = time.time()\n",
        "\n",
        "# Insert into database\n",
        "insert_database_values(df3_new)\n",
        "\n",
        "df3_response"
      ]
    },
    {
      "cell_type": "markdown",
      "metadata": {
        "id": "jFhEQurUlipA"
      },
      "source": [
        "## 14.0 - Dashboard - PowerBI"
      ]
    },
    {
      "cell_type": "code",
      "execution_count": null,
      "metadata": {
        "id": "AVg-XrzIlipA"
      },
      "outputs": [],
      "source": [
        "# Connecting sqlite database\n",
        "import pandas as pd\n",
        "from sqlalchemy import create_engine\n",
        "\n",
        "new_col = ['id', 'age', 'gender', 'height', 'weight', 'hight_pressure', 'low_pressure',\n",
        "           'cholesterol', 'glucose', 'smoker', 'alcohol', 'active', 'cardio']\n",
        "\n",
        "engine = create_engine('sqlite:///Y:\\\\pa001_cardio_catch_diseases\\\\ccd.db', echo=False)\n",
        "df3 = engine.execute('SELECT * FROM patients').fetchall()\n",
        "df3 = pd.DataFrame(df3, columns=new_col)\n",
        "\n",
        "# Data Preparation/transformation\n",
        "\n"
      ]
    }
  ],
  "metadata": {
    "accelerator": "GPU",
    "colab": {
      "provenance": [],
      "include_colab_link": true
    },
    "gpuClass": "standard",
    "kernelspec": {
      "display_name": "Python 3",
      "language": "python",
      "name": "python3"
    },
    "language_info": {
      "codemirror_mode": {
        "name": "ipython",
        "version": 3
      },
      "file_extension": ".py",
      "mimetype": "text/x-python",
      "name": "python",
      "nbconvert_exporter": "python",
      "pygments_lexer": "ipython3",
      "version": "3.10.9"
    }
  },
  "nbformat": 4,
  "nbformat_minor": 0
}